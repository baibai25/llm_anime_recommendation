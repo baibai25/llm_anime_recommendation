{
 "cells": [
  {
   "cell_type": "code",
   "execution_count": 1,
   "metadata": {},
   "outputs": [],
   "source": [
    "import pandas as pd"
   ]
  },
  {
   "cell_type": "code",
   "execution_count": 2,
   "metadata": {},
   "outputs": [],
   "source": [
    "df = pd.read_pickle(\"../data/trainset.pkl\")\n",
    "anime_list = pd.DataFrame(df[\"Name\"].unique(), columns=[\"Name\"])\n",
    "del df"
   ]
  },
  {
   "cell_type": "code",
   "execution_count": 3,
   "metadata": {},
   "outputs": [],
   "source": [
    "def search_anime(df, search_word):\n",
    "    result = df[df[\"Name\"].str.contains(search_word, case=False)]\n",
    "    print(result[\"Name\"].values)"
   ]
  },
  {
   "cell_type": "code",
   "execution_count": 4,
   "metadata": {},
   "outputs": [
    {
     "name": "stdout",
     "output_type": "stream",
     "text": [
      "['Angel Beats!']\n"
     ]
    }
   ],
   "source": [
    "search_anime(anime_list, \"angel beats\")"
   ]
  },
  {
   "cell_type": "code",
   "execution_count": 5,
   "metadata": {},
   "outputs": [
    {
     "name": "stdout",
     "output_type": "stream",
     "text": [
      "['Mahoutsukai Precure!']\n"
     ]
    }
   ],
   "source": [
    "search_anime(anime_list, \"mahoutsukai precure\")"
   ]
  },
  {
   "cell_type": "code",
   "execution_count": 6,
   "metadata": {},
   "outputs": [
    {
     "name": "stdout",
     "output_type": "stream",
     "text": [
      "['Ookami to Koushinryou II: Ookami to Kohakuiro no Yuuutsu'\n",
      " 'Ookami to Koushinryou II' 'Ookami to Koushinryou']\n"
     ]
    }
   ],
   "source": [
    "search_anime(anime_list, \"ookami to koushinryou\")"
   ]
  },
  {
   "cell_type": "code",
   "execution_count": 7,
   "metadata": {},
   "outputs": [
    {
     "name": "stdout",
     "output_type": "stream",
     "text": [
      "['Shinsekai yori' 'Choujin Locke: Shinsekai Sentai']\n"
     ]
    }
   ],
   "source": [
    "search_anime(anime_list, \"shinsekai\")"
   ]
  },
  {
   "cell_type": "code",
   "execution_count": 8,
   "metadata": {},
   "outputs": [
    {
     "name": "stdout",
     "output_type": "stream",
     "text": [
      "['Shugo Chara!' 'Shugo Chara!! Doki' 'Shugo Chara! Party!']\n"
     ]
    }
   ],
   "source": [
    "search_anime(anime_list, \"shugo chara\")"
   ]
  },
  {
   "cell_type": "code",
   "execution_count": 9,
   "metadata": {},
   "outputs": [
    {
     "name": "stdout",
     "output_type": "stream",
     "text": [
      "['Uma Musume: Pretty Derby (TV)']\n"
     ]
    }
   ],
   "source": [
    "search_anime(anime_list, \"uma musume\")"
   ]
  },
  {
   "cell_type": "code",
   "execution_count": 10,
   "metadata": {},
   "outputs": [
    {
     "name": "stdout",
     "output_type": "stream",
     "text": [
      "['Fate/Zero 2nd Season' 'Fate/Zero']\n"
     ]
    }
   ],
   "source": [
    "search_anime(anime_list, \"fate/zero\")"
   ]
  },
  {
   "cell_type": "code",
   "execution_count": 11,
   "metadata": {},
   "outputs": [
    {
     "name": "stdout",
     "output_type": "stream",
     "text": [
      "[]\n"
     ]
    }
   ],
   "source": [
    "search_anime(anime_list, \"kara no kyoukai\")"
   ]
  },
  {
   "cell_type": "code",
   "execution_count": 12,
   "metadata": {},
   "outputs": [
    {
     "name": "stdout",
     "output_type": "stream",
     "text": [
      "['Uchuu Senkan Yamato 2199']\n"
     ]
    }
   ],
   "source": [
    "search_anime(anime_list, \"2199\")"
   ]
  },
  {
   "cell_type": "code",
   "execution_count": null,
   "metadata": {},
   "outputs": [],
   "source": []
  }
 ],
 "metadata": {
  "kernelspec": {
   "display_name": "llm-anime-recommendation-9TtSrW0h-py3.11",
   "language": "python",
   "name": "python3"
  },
  "language_info": {
   "codemirror_mode": {
    "name": "ipython",
    "version": 3
   },
   "file_extension": ".py",
   "mimetype": "text/x-python",
   "name": "python",
   "nbconvert_exporter": "python",
   "pygments_lexer": "ipython3",
   "version": "3.11.4"
  },
  "orig_nbformat": 4
 },
 "nbformat": 4,
 "nbformat_minor": 2
}
