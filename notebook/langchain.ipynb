{
 "cells": [
  {
   "cell_type": "code",
   "execution_count": 1,
   "metadata": {},
   "outputs": [],
   "source": [
    "import openai\n",
    "import re\n",
    "import json\n",
    "\n",
    "import pandas as pd\n",
    "\n",
    "from langchain import PromptTemplate\n",
    "from langchain.llms import OpenAI\n",
    "from langchain.chat_models import ChatOpenAI\n",
    "\n",
    "from langchain.embeddings import OpenAIEmbeddings\n",
    "from langchain.chains import RetrievalQA\n",
    "from langchain.vectorstores import FAISS\n",
    "import numpy as np\n",
    "\n",
    "import pickle\n",
    "import datetime\n",
    "from river import stream, metrics"
   ]
  },
  {
   "cell_type": "code",
   "execution_count": 11,
   "metadata": {},
   "outputs": [],
   "source": [
    "def get_prompt(template, input_text):\n",
    "    prompt = PromptTemplate(template=template, input_variables=[\"input\"])\n",
    "    prompt_text = prompt.format(input=input_text)\n",
    "\n",
    "    return prompt_text\n",
    "\n",
    "\n",
    "def get_anime_name(anime_name):\n",
    "    anime_list = anime_name.split(\"\\n\")\n",
    "    anime_list = [anime for anime in anime_list if anime]\n",
    "\n",
    "    return anime_list\n",
    "\n",
    "\n",
    "def get_similarity_item(db, input):\n",
    "    input = input.lower()\n",
    "    sim = db.similarity_search_with_score(query=input, k=1)\n",
    "    anime_name = sim[0][0].page_content.split(\"\\n\")[0]\n",
    "    match = re.search(r\"Name: (.*)\", anime_name)\n",
    "\n",
    "    if match:\n",
    "        anime_name = match.group(1)\n",
    "    else:\n",
    "        anime_name = np.nan\n",
    "\n",
    "    sim_value = sim[0][1]\n",
    "    if sim_value >= 0.3:\n",
    "        return None\n",
    "    else:\n",
    "        return anime_name"
   ]
  },
  {
   "attachments": {},
   "cell_type": "markdown",
   "metadata": {},
   "source": [
    "### Load DB\n"
   ]
  },
  {
   "cell_type": "code",
   "execution_count": 3,
   "metadata": {},
   "outputs": [],
   "source": [
    "embeddings = OpenAIEmbeddings()\n",
    "anime_name_db = FAISS.load_local(\"../data/anime_name_db\", embeddings)"
   ]
  },
  {
   "cell_type": "code",
   "execution_count": null,
   "metadata": {},
   "outputs": [],
   "source": []
  },
  {
   "attachments": {},
   "cell_type": "markdown",
   "metadata": {},
   "source": [
    "### Prompt\n"
   ]
  },
  {
   "cell_type": "code",
   "execution_count": 4,
   "metadata": {},
   "outputs": [],
   "source": [
    "# AIが使うことができる関数を羅列する\n",
    "functions = [\n",
    "    {\n",
    "        \"name\": \"get_anime_name_list\",\n",
    "        \"description\": \"入力文章から、アニメ名のリストを作成する。\",\n",
    "        \"parameters\": {\n",
    "            \"type\": \"object\",\n",
    "            \"properties\": {\n",
    "                \"name\": {\n",
    "                    \"type\": \"array\",\n",
    "                    \"description\": \"アニメ名\",\n",
    "                    \"items\": {\"type\": \"string\"},\n",
    "                }\n",
    "            },\n",
    "            \"required\": [\"name\"],\n",
    "        },\n",
    "    }\n",
    "]"
   ]
  },
  {
   "cell_type": "code",
   "execution_count": 5,
   "metadata": {},
   "outputs": [],
   "source": [
    "user_input = \"\"\"おすすめのアニメを教えてください。私が好きなアニメは以下の通りです。\n",
    "\n",
    "- Angel Beats!\n",
    "- Mahoutsukai Precure!\n",
    "- Ookami to Koushinryou\n",
    "- Shinsekai yori\n",
    "- Shugo Chara!\n",
    "- Uma Musume: Pretty Derby (TV)\n",
    "- Fate/Zero\n",
    "- Uchuu Senkan Yamato 2199\n",
    "\"\"\"\n",
    "\n",
    "template_user_input = \"\"\"以下の文章は、ユーザが好きなアニメの名前を列挙しています。\n",
    "アニメの名前を抽出し、カンマ区切りで出力しなさい。\n",
    "\n",
    "----\n",
    "{input}\n",
    "\"\"\"\n",
    "\n",
    "prompt = get_prompt(template_user_input, user_input)"
   ]
  },
  {
   "cell_type": "code",
   "execution_count": 6,
   "metadata": {},
   "outputs": [
    {
     "data": {
      "text/plain": [
       "'以下の文章は、ユーザが好きなアニメの名前を列挙しています。\\nアニメの名前を抽出し、カンマ区切りで出力しなさい。\\n\\n----\\nおすすめのアニメを教えてください。私が好きなアニメは以下の通りです。\\n\\n- Angel Beats!\\n- Mahoutsukai Precure!\\n- Ookami to Koushinryou\\n- Shinsekai yori\\n- Shugo Chara!\\n- Uma Musume: Pretty Derby (TV)\\n- Fate/Zero\\n- Uchuu Senkan Yamato 2199\\n\\n'"
      ]
     },
     "execution_count": 6,
     "metadata": {},
     "output_type": "execute_result"
    }
   ],
   "source": [
    "prompt"
   ]
  },
  {
   "cell_type": "markdown",
   "metadata": {},
   "source": [
    "### Get candidate anime name using function calling\n"
   ]
  },
  {
   "cell_type": "code",
   "execution_count": 7,
   "metadata": {},
   "outputs": [],
   "source": [
    "response = openai.ChatCompletion.create(\n",
    "    model=\"gpt-4\",\n",
    "    messages=[\n",
    "        {\"role\": \"user\", \"content\": prompt},\n",
    "    ],\n",
    "    functions=functions,\n",
    "    function_call=\"auto\",\n",
    "    temperature=0,\n",
    ")\n",
    "message = response[\"choices\"][0][\"message\"]\n",
    "candidate_list = json.loads(message[\"function_call\"][\"arguments\"])[\"name\"]"
   ]
  },
  {
   "cell_type": "code",
   "execution_count": 8,
   "metadata": {},
   "outputs": [
    {
     "data": {
      "text/plain": [
       "['Angel Beats!',\n",
       " 'Mahoutsukai Precure!',\n",
       " 'Ookami to Koushinryou',\n",
       " 'Shinsekai yori',\n",
       " 'Shugo Chara!',\n",
       " 'Uma Musume: Pretty Derby (TV)',\n",
       " 'Fate/Zero',\n",
       " 'Uchuu Senkan Yamato 2199']"
      ]
     },
     "execution_count": 8,
     "metadata": {},
     "output_type": "execute_result"
    }
   ],
   "source": [
    "candidate_list"
   ]
  },
  {
   "cell_type": "markdown",
   "metadata": {},
   "source": [
    "### Online learning\n"
   ]
  },
  {
   "cell_type": "code",
   "execution_count": 12,
   "metadata": {},
   "outputs": [],
   "source": [
    "rated_anime = []\n",
    "for item in candidate_list:\n",
    "    rated_anime.append(get_similarity_item(anime_name_db, item))"
   ]
  },
  {
   "cell_type": "code",
   "execution_count": 13,
   "metadata": {},
   "outputs": [
    {
     "data": {
      "text/plain": [
       "['angel beats!',\n",
       " 'mahoutsukai precure!',\n",
       " 'ookami to koushinryou',\n",
       " 'shinsekai yori',\n",
       " 'shugo chara!',\n",
       " 'uma musume: pretty derby (tv)',\n",
       " 'fate/zero',\n",
       " 'uchuu senkan yamato 2199']"
      ]
     },
     "execution_count": 13,
     "metadata": {},
     "output_type": "execute_result"
    }
   ],
   "source": [
    "rated_anime"
   ]
  },
  {
   "cell_type": "code",
   "execution_count": 14,
   "metadata": {},
   "outputs": [],
   "source": [
    "rated_anime_df = pd.DataFrame(rated_anime)\n",
    "rated_anime_df.rename(columns={0: \"Name_lower\"}, inplace=True)"
   ]
  },
  {
   "cell_type": "code",
   "execution_count": 15,
   "metadata": {},
   "outputs": [],
   "source": [
    "anime_list = pd.read_csv(\"../data/anime_list.csv\")\n",
    "anime_list[\"Name_lower\"] = anime_list[\"Name\"].str.lower()"
   ]
  },
  {
   "cell_type": "code",
   "execution_count": 16,
   "metadata": {},
   "outputs": [],
   "source": [
    "rated_anime_df = pd.merge(\n",
    "    rated_anime_df,\n",
    "    anime_list[[\"anime_id\", \"Name_lower\"]],\n",
    "    on=\"Name_lower\",\n",
    "    how=\"left\",\n",
    ")\n",
    "rated_anime_ids = rated_anime_df[\"anime_id\"]"
   ]
  },
  {
   "cell_type": "code",
   "execution_count": 17,
   "metadata": {},
   "outputs": [],
   "source": [
    "def create_user_uid():\n",
    "    now = datetime.datetime.now()\n",
    "    user_id = now.strftime(\"%Y%m%d%H%M%S\")\n",
    "    user_id = int(user_id)\n",
    "\n",
    "    return user_id"
   ]
  },
  {
   "cell_type": "code",
   "execution_count": 18,
   "metadata": {},
   "outputs": [],
   "source": [
    "user_id = create_user_uid()"
   ]
  },
  {
   "cell_type": "code",
   "execution_count": 19,
   "metadata": {},
   "outputs": [],
   "source": [
    "rated_anime_df[\"user_id\"] = user_id\n",
    "rated_anime_df[\"rating\"] = 10"
   ]
  },
  {
   "cell_type": "code",
   "execution_count": 20,
   "metadata": {},
   "outputs": [
    {
     "data": {
      "text/html": [
       "<div>\n",
       "<style scoped>\n",
       "    .dataframe tbody tr th:only-of-type {\n",
       "        vertical-align: middle;\n",
       "    }\n",
       "\n",
       "    .dataframe tbody tr th {\n",
       "        vertical-align: top;\n",
       "    }\n",
       "\n",
       "    .dataframe thead th {\n",
       "        text-align: right;\n",
       "    }\n",
       "</style>\n",
       "<table border=\"1\" class=\"dataframe\">\n",
       "  <thead>\n",
       "    <tr style=\"text-align: right;\">\n",
       "      <th></th>\n",
       "      <th>Name_lower</th>\n",
       "      <th>anime_id</th>\n",
       "      <th>user_id</th>\n",
       "      <th>rating</th>\n",
       "    </tr>\n",
       "  </thead>\n",
       "  <tbody>\n",
       "    <tr>\n",
       "      <th>0</th>\n",
       "      <td>angel beats!</td>\n",
       "      <td>6547</td>\n",
       "      <td>20230728141734</td>\n",
       "      <td>10</td>\n",
       "    </tr>\n",
       "    <tr>\n",
       "      <th>1</th>\n",
       "      <td>mahoutsukai precure!</td>\n",
       "      <td>31884</td>\n",
       "      <td>20230728141734</td>\n",
       "      <td>10</td>\n",
       "    </tr>\n",
       "    <tr>\n",
       "      <th>2</th>\n",
       "      <td>ookami to koushinryou</td>\n",
       "      <td>2966</td>\n",
       "      <td>20230728141734</td>\n",
       "      <td>10</td>\n",
       "    </tr>\n",
       "    <tr>\n",
       "      <th>3</th>\n",
       "      <td>shinsekai yori</td>\n",
       "      <td>13125</td>\n",
       "      <td>20230728141734</td>\n",
       "      <td>10</td>\n",
       "    </tr>\n",
       "    <tr>\n",
       "      <th>4</th>\n",
       "      <td>shugo chara!</td>\n",
       "      <td>2923</td>\n",
       "      <td>20230728141734</td>\n",
       "      <td>10</td>\n",
       "    </tr>\n",
       "    <tr>\n",
       "      <th>5</th>\n",
       "      <td>uma musume: pretty derby (tv)</td>\n",
       "      <td>35249</td>\n",
       "      <td>20230728141734</td>\n",
       "      <td>10</td>\n",
       "    </tr>\n",
       "    <tr>\n",
       "      <th>6</th>\n",
       "      <td>fate/zero</td>\n",
       "      <td>10087</td>\n",
       "      <td>20230728141734</td>\n",
       "      <td>10</td>\n",
       "    </tr>\n",
       "    <tr>\n",
       "      <th>7</th>\n",
       "      <td>uchuu senkan yamato 2199</td>\n",
       "      <td>12029</td>\n",
       "      <td>20230728141734</td>\n",
       "      <td>10</td>\n",
       "    </tr>\n",
       "  </tbody>\n",
       "</table>\n",
       "</div>"
      ],
      "text/plain": [
       "                      Name_lower  anime_id         user_id  rating\n",
       "0                   angel beats!      6547  20230728141734      10\n",
       "1           mahoutsukai precure!     31884  20230728141734      10\n",
       "2          ookami to koushinryou      2966  20230728141734      10\n",
       "3                 shinsekai yori     13125  20230728141734      10\n",
       "4                   shugo chara!      2923  20230728141734      10\n",
       "5  uma musume: pretty derby (tv)     35249  20230728141734      10\n",
       "6                      fate/zero     10087  20230728141734      10\n",
       "7       uchuu senkan yamato 2199     12029  20230728141734      10"
      ]
     },
     "execution_count": 20,
     "metadata": {},
     "output_type": "execute_result"
    }
   ],
   "source": [
    "rated_anime_df"
   ]
  },
  {
   "cell_type": "code",
   "execution_count": 21,
   "metadata": {},
   "outputs": [],
   "source": [
    "X = rated_anime_df[[\"user_id\", \"anime_id\"]]\n",
    "y = rated_anime_df[[\"rating\"]]\n",
    "dataset = stream.iter_pandas(X, y)"
   ]
  },
  {
   "cell_type": "code",
   "execution_count": 22,
   "metadata": {},
   "outputs": [],
   "source": [
    "with open(\"../data/model.pkl\", \"rb\") as f:\n",
    "    model = pickle.load(f)"
   ]
  },
  {
   "cell_type": "code",
   "execution_count": 23,
   "metadata": {},
   "outputs": [],
   "source": [
    "# Update model\n",
    "metric = metrics.MAE() + metrics.RMSE()\n",
    "for x, y in dataset:\n",
    "    y_pred = model.predict_one(user=x[\"user_id\"], item=x[\"anime_id\"])\n",
    "    metric = metric.update(y[\"rating\"], y_pred)\n",
    "    model = model.learn_one(user=x[\"user_id\"], item=x[\"anime_id\"], y=y[\"rating\"])"
   ]
  },
  {
   "cell_type": "code",
   "execution_count": 24,
   "metadata": {},
   "outputs": [
    {
     "data": {
      "text/plain": [
       "MAE: 9.368767, RMSE: 9.387725"
      ]
     },
     "execution_count": 24,
     "metadata": {},
     "output_type": "execute_result"
    }
   ],
   "source": [
    "metric"
   ]
  },
  {
   "cell_type": "code",
   "execution_count": 25,
   "metadata": {},
   "outputs": [],
   "source": [
    "def predict(user_id, anime_list, rated_anime_ids):\n",
    "    # predict recommend item\n",
    "    result_df = model.rank(user=user_id, items=anime_list[\"anime_id\"])\n",
    "    result_df = pd.DataFrame(result_df, columns=[\"anime_id\"])\n",
    "    result_df = pd.merge(result_df, anime_list, on=[\"anime_id\"], how=\"inner\")\n",
    "\n",
    "    # # remove rated item\n",
    "    result_df = result_df[~result_df[\"anime_id\"].isin(rated_anime_ids)]\n",
    "    result_df = result_df.reset_index(drop=True)[0:10]\n",
    "\n",
    "    return result_df"
   ]
  },
  {
   "cell_type": "code",
   "execution_count": 26,
   "metadata": {},
   "outputs": [],
   "source": [
    "recommend_result = predict(user_id, anime_list, rated_anime_ids)"
   ]
  },
  {
   "cell_type": "code",
   "execution_count": 27,
   "metadata": {},
   "outputs": [
    {
     "data": {
      "text/html": [
       "<div>\n",
       "<style scoped>\n",
       "    .dataframe tbody tr th:only-of-type {\n",
       "        vertical-align: middle;\n",
       "    }\n",
       "\n",
       "    .dataframe tbody tr th {\n",
       "        vertical-align: top;\n",
       "    }\n",
       "\n",
       "    .dataframe thead th {\n",
       "        text-align: right;\n",
       "    }\n",
       "</style>\n",
       "<table border=\"1\" class=\"dataframe\">\n",
       "  <thead>\n",
       "    <tr style=\"text-align: right;\">\n",
       "      <th></th>\n",
       "      <th>anime_id</th>\n",
       "      <th>Name</th>\n",
       "      <th>English_name</th>\n",
       "      <th>Japanese_name</th>\n",
       "      <th>Genres</th>\n",
       "      <th>Aired</th>\n",
       "      <th>Score</th>\n",
       "      <th>Ranked</th>\n",
       "      <th>sypnopsis</th>\n",
       "      <th>Name_lower</th>\n",
       "    </tr>\n",
       "  </thead>\n",
       "  <tbody>\n",
       "    <tr>\n",
       "      <th>0</th>\n",
       "      <td>39587</td>\n",
       "      <td>Re:Zero kara Hajimeru Isekai Seikatsu 2nd Season</td>\n",
       "      <td>Re:ZERO -Starting Life in Another World- Season 2</td>\n",
       "      <td>Re：ゼロから始める異世界生活</td>\n",
       "      <td>Psychological, Drama, Thriller, Fantasy</td>\n",
       "      <td>Jul 8, 2020 to Sep 30, 2020</td>\n",
       "      <td>8.50</td>\n",
       "      <td>104.0</td>\n",
       "      <td>union that was supposed to spell the arrival o...</td>\n",
       "      <td>re:zero kara hajimeru isekai seikatsu 2nd season</td>\n",
       "    </tr>\n",
       "    <tr>\n",
       "      <th>1</th>\n",
       "      <td>263</td>\n",
       "      <td>Hajime no Ippo</td>\n",
       "      <td>Fighting Spirit</td>\n",
       "      <td>はじめの一歩 THE FIGHTING!</td>\n",
       "      <td>Comedy, Sports, Drama, Shounen</td>\n",
       "      <td>Oct 4, 2000 to Mar 27, 2002</td>\n",
       "      <td>8.75</td>\n",
       "      <td>32.0</td>\n",
       "      <td>akunouchi Ippo has been bullied his entire lif...</td>\n",
       "      <td>hajime no ippo</td>\n",
       "    </tr>\n",
       "    <tr>\n",
       "      <th>2</th>\n",
       "      <td>30484</td>\n",
       "      <td>Steins;Gate 0</td>\n",
       "      <td>Steins;Gate 0</td>\n",
       "      <td>シュタインズ・ゲート ゼロ</td>\n",
       "      <td>Sci-Fi, Thriller</td>\n",
       "      <td>Apr 12, 2018 to Sep 27, 2018</td>\n",
       "      <td>8.51</td>\n",
       "      <td>103.0</td>\n",
       "      <td>The eccentric, self-proclaimed mad scientist R...</td>\n",
       "      <td>steins;gate 0</td>\n",
       "    </tr>\n",
       "    <tr>\n",
       "      <th>3</th>\n",
       "      <td>35760</td>\n",
       "      <td>Shingeki no Kyojin Season 3</td>\n",
       "      <td>Attack on Titan Season 3</td>\n",
       "      <td>進撃の巨人 Season3</td>\n",
       "      <td>Action, Military, Mystery, Super Power, Drama,...</td>\n",
       "      <td>Jul 23, 2018 to Oct 15, 2018</td>\n",
       "      <td>8.59</td>\n",
       "      <td>76.0</td>\n",
       "      <td>Still threatened by the \"Titans\" that rob them...</td>\n",
       "      <td>shingeki no kyojin season 3</td>\n",
       "    </tr>\n",
       "    <tr>\n",
       "      <th>4</th>\n",
       "      <td>2904</td>\n",
       "      <td>Code Geass: Hangyaku no Lelouch R2</td>\n",
       "      <td>Code Geass:Lelouch of the Rebellion R2</td>\n",
       "      <td>コードギアス 反逆のルルーシュ 続編</td>\n",
       "      <td>Action, Military, Sci-Fi, Super Power, Drama, ...</td>\n",
       "      <td>Apr 6, 2008 to Sep 28, 2008</td>\n",
       "      <td>8.91</td>\n",
       "      <td>18.0</td>\n",
       "      <td>One year has passed since the Black Rebellion,...</td>\n",
       "      <td>code geass: hangyaku no lelouch r2</td>\n",
       "    </tr>\n",
       "    <tr>\n",
       "      <th>5</th>\n",
       "      <td>28171</td>\n",
       "      <td>Shokugeki no Souma</td>\n",
       "      <td>Food Wars! Shokugeki no Soma</td>\n",
       "      <td>食戟のソーマ</td>\n",
       "      <td>Ecchi, School, Shounen</td>\n",
       "      <td>Apr 4, 2015 to Sep 26, 2015</td>\n",
       "      <td>8.29</td>\n",
       "      <td>230.0</td>\n",
       "      <td>Ever since he was a child, fifteen-year-old So...</td>\n",
       "      <td>shokugeki no souma</td>\n",
       "    </tr>\n",
       "    <tr>\n",
       "      <th>6</th>\n",
       "      <td>35788</td>\n",
       "      <td>Shokugeki no Souma: San no Sara</td>\n",
       "      <td>Food Wars! The Third Plate</td>\n",
       "      <td>食戟のソーマ 餐ノ皿</td>\n",
       "      <td>Ecchi, School, Shounen</td>\n",
       "      <td>Oct 4, 2017 to Dec 20, 2017</td>\n",
       "      <td>8.14</td>\n",
       "      <td>370.0</td>\n",
       "      <td>The Moon Festival is Tootsuki Academy's annual...</td>\n",
       "      <td>shokugeki no souma: san no sara</td>\n",
       "    </tr>\n",
       "    <tr>\n",
       "      <th>7</th>\n",
       "      <td>37450</td>\n",
       "      <td>Seishun Buta Yarou wa Bunny Girl Senpai no Yum...</td>\n",
       "      <td>Rascal Does Not Dream of Bunny Girl Senpai</td>\n",
       "      <td>青春ブタ野郎はバニーガール先輩の夢を見ない</td>\n",
       "      <td>Comedy, Supernatural, Drama, Romance, School</td>\n",
       "      <td>Oct 4, 2018 to Dec 27, 2018</td>\n",
       "      <td>8.38</td>\n",
       "      <td>166.0</td>\n",
       "      <td>The rare and inexplicable Puberty Syndrome is ...</td>\n",
       "      <td>seishun buta yarou wa bunny girl senpai no yum...</td>\n",
       "    </tr>\n",
       "    <tr>\n",
       "      <th>8</th>\n",
       "      <td>9863</td>\n",
       "      <td>SKET Dance</td>\n",
       "      <td>SKET Dance</td>\n",
       "      <td>スケットダンス</td>\n",
       "      <td>Comedy, School, Shounen</td>\n",
       "      <td>Apr 7, 2011 to Sep 27, 2012</td>\n",
       "      <td>8.25</td>\n",
       "      <td>262.0</td>\n",
       "      <td>Kaimei High School there is a special club ded...</td>\n",
       "      <td>sket dance</td>\n",
       "    </tr>\n",
       "    <tr>\n",
       "      <th>9</th>\n",
       "      <td>5040</td>\n",
       "      <td>One Outs</td>\n",
       "      <td>One Outs</td>\n",
       "      <td>ワンナウツ</td>\n",
       "      <td>Sports, Psychological, Seinen</td>\n",
       "      <td>Oct 8, 2008 to Apr 1, 2009</td>\n",
       "      <td>8.35</td>\n",
       "      <td>180.0</td>\n",
       "      <td>Toua Tokuchi is an athlete by profession, but ...</td>\n",
       "      <td>one outs</td>\n",
       "    </tr>\n",
       "  </tbody>\n",
       "</table>\n",
       "</div>"
      ],
      "text/plain": [
       "   anime_id                                               Name  \\\n",
       "0     39587   Re:Zero kara Hajimeru Isekai Seikatsu 2nd Season   \n",
       "1       263                                     Hajime no Ippo   \n",
       "2     30484                                      Steins;Gate 0   \n",
       "3     35760                        Shingeki no Kyojin Season 3   \n",
       "4      2904                 Code Geass: Hangyaku no Lelouch R2   \n",
       "5     28171                                 Shokugeki no Souma   \n",
       "6     35788                    Shokugeki no Souma: San no Sara   \n",
       "7     37450  Seishun Buta Yarou wa Bunny Girl Senpai no Yum...   \n",
       "8      9863                                         SKET Dance   \n",
       "9      5040                                           One Outs   \n",
       "\n",
       "                                        English_name          Japanese_name  \\\n",
       "0  Re:ZERO -Starting Life in Another World- Season 2        Re：ゼロから始める異世界生活   \n",
       "1                                    Fighting Spirit   はじめの一歩 THE FIGHTING!   \n",
       "2                                      Steins;Gate 0          シュタインズ・ゲート ゼロ   \n",
       "3                           Attack on Titan Season 3          進撃の巨人 Season3   \n",
       "4             Code Geass:Lelouch of the Rebellion R2     コードギアス 反逆のルルーシュ 続編   \n",
       "5                       Food Wars! Shokugeki no Soma                 食戟のソーマ   \n",
       "6                         Food Wars! The Third Plate             食戟のソーマ 餐ノ皿   \n",
       "7         Rascal Does Not Dream of Bunny Girl Senpai  青春ブタ野郎はバニーガール先輩の夢を見ない   \n",
       "8                                         SKET Dance                スケットダンス   \n",
       "9                                           One Outs                  ワンナウツ   \n",
       "\n",
       "                                              Genres  \\\n",
       "0            Psychological, Drama, Thriller, Fantasy   \n",
       "1                     Comedy, Sports, Drama, Shounen   \n",
       "2                                   Sci-Fi, Thriller   \n",
       "3  Action, Military, Mystery, Super Power, Drama,...   \n",
       "4  Action, Military, Sci-Fi, Super Power, Drama, ...   \n",
       "5                             Ecchi, School, Shounen   \n",
       "6                             Ecchi, School, Shounen   \n",
       "7       Comedy, Supernatural, Drama, Romance, School   \n",
       "8                            Comedy, School, Shounen   \n",
       "9                      Sports, Psychological, Seinen   \n",
       "\n",
       "                          Aired  Score  Ranked  \\\n",
       "0   Jul 8, 2020 to Sep 30, 2020   8.50   104.0   \n",
       "1   Oct 4, 2000 to Mar 27, 2002   8.75    32.0   \n",
       "2  Apr 12, 2018 to Sep 27, 2018   8.51   103.0   \n",
       "3  Jul 23, 2018 to Oct 15, 2018   8.59    76.0   \n",
       "4   Apr 6, 2008 to Sep 28, 2008   8.91    18.0   \n",
       "5   Apr 4, 2015 to Sep 26, 2015   8.29   230.0   \n",
       "6   Oct 4, 2017 to Dec 20, 2017   8.14   370.0   \n",
       "7   Oct 4, 2018 to Dec 27, 2018   8.38   166.0   \n",
       "8   Apr 7, 2011 to Sep 27, 2012   8.25   262.0   \n",
       "9    Oct 8, 2008 to Apr 1, 2009   8.35   180.0   \n",
       "\n",
       "                                           sypnopsis  \\\n",
       "0  union that was supposed to spell the arrival o...   \n",
       "1  akunouchi Ippo has been bullied his entire lif...   \n",
       "2  The eccentric, self-proclaimed mad scientist R...   \n",
       "3  Still threatened by the \"Titans\" that rob them...   \n",
       "4  One year has passed since the Black Rebellion,...   \n",
       "5  Ever since he was a child, fifteen-year-old So...   \n",
       "6  The Moon Festival is Tootsuki Academy's annual...   \n",
       "7  The rare and inexplicable Puberty Syndrome is ...   \n",
       "8  Kaimei High School there is a special club ded...   \n",
       "9  Toua Tokuchi is an athlete by profession, but ...   \n",
       "\n",
       "                                          Name_lower  \n",
       "0   re:zero kara hajimeru isekai seikatsu 2nd season  \n",
       "1                                     hajime no ippo  \n",
       "2                                      steins;gate 0  \n",
       "3                        shingeki no kyojin season 3  \n",
       "4                 code geass: hangyaku no lelouch r2  \n",
       "5                                 shokugeki no souma  \n",
       "6                    shokugeki no souma: san no sara  \n",
       "7  seishun buta yarou wa bunny girl senpai no yum...  \n",
       "8                                         sket dance  \n",
       "9                                           one outs  "
      ]
     },
     "execution_count": 27,
     "metadata": {},
     "output_type": "execute_result"
    }
   ],
   "source": [
    "recommend_result"
   ]
  },
  {
   "cell_type": "code",
   "execution_count": 29,
   "metadata": {},
   "outputs": [],
   "source": [
    "anime_info_db = FAISS.load_local(\"../data/anime_info_db\", embeddings)"
   ]
  },
  {
   "cell_type": "code",
   "execution_count": 30,
   "metadata": {},
   "outputs": [],
   "source": [
    "llm = ChatOpenAI(model=\"gpt-4\", temperature=0)\n",
    "chain = RetrievalQA.from_chain_type(\n",
    "    llm,\n",
    "    retriever=anime_info_db.as_retriever(),\n",
    ")"
   ]
  },
  {
   "cell_type": "code",
   "execution_count": 31,
   "metadata": {},
   "outputs": [],
   "source": [
    "def get_prompt(template, input_text):\n",
    "    prompt = PromptTemplate(template=template, input_variables=[\"input\"])\n",
    "    prompt_text = prompt.format(input=input_text)\n",
    "\n",
    "    return prompt_text"
   ]
  },
  {
   "cell_type": "code",
   "execution_count": 32,
   "metadata": {},
   "outputs": [],
   "source": [
    "template_recommend = \"\"\"You are anime recommender system.\n",
    "Follow the Output rules and introduce the anime in the Recommend Lists.\n",
    "\n",
    "# Recommend Lists\n",
    "- {input}\n",
    "\n",
    "# Output rules\n",
    "- Show anime name, genere and descriptions.\n",
    "\"\"\""
   ]
  },
  {
   "cell_type": "code",
   "execution_count": 35,
   "metadata": {},
   "outputs": [],
   "source": [
    "result_list = []\n",
    "for l in recommend_result[\"Name\"][0:3]:\n",
    "    input = l.lower()\n",
    "    prompt = get_prompt(template_recommend, input)\n",
    "    result = chain(prompt)\n",
    "    result_list.append(result[\"result\"])"
   ]
  },
  {
   "cell_type": "code",
   "execution_count": 36,
   "metadata": {},
   "outputs": [
    {
     "data": {
      "text/plain": [
       "['Anime Name: Re:Zero kara Hajimeru Isekai Seikatsu 2nd Season\\nGenres: Psychological, Drama, Thriller, Fantasy\\nDescription: This is the second season of Re:Zero kara Hajimeru Isekai Seikatsu. The union that was supposed to',\n",
       " \"Anime Name: Hajime no Ippo\\nGenres: Comedy, Sports, Drama, Shounen\\nDescription: The story revolves around Makunouchi Ippo, who has been bullied his entire life. One day, he is saved by a boxer, Takamura Mamoru, and brought to a boxing gym to recover from his injuries. As he regains consciousness, he is amazed at his new surroundings in the gym. Takamura places a photo of Ippo's classmate on a punching bag and forces him to punch it. It is only then that Ippo feels something stir inside him and eventually asks Takamura to train him in boxing. With a sudden desire to get stronger, for himself and his hard working mother, Ippo trains relentlessly to accomplish a task given by Takamura within a time limit. Thus begins Ippo's journey to the top of the boxing world.\",\n",
       " \"Anime Name: Steins;Gate 0\\nGenres: Sci-Fi, Thriller\\nDescription: The eccentric, self-proclaimed mad scientist Rintarou Okabe has become a shell of his former self. Depressed and traumatized after failing to rescue his friend Makise Kurisu, he has decided to forsake his mad scientist alter ego and live as an ordinary college student. Surrounded by friends who know little of his time travel experiences, Okabe spends his days trying to forget the horrors of his adventures alone. While working as a receptionist at a college technology forum, Okabe meets the short, spunky Maho Hiyajo, who later turns out to be the interpreter at the forum's presentation, conducted by Professor Alexis Leskinen. In front of a stunned crowd, Alexis and Maho unveil Amadeus—a revolutionary AI capable of storing a person's memories and creating a perfect simulation of that person complete with their personality and quirks. Meeting with Maho and Alexis after the presentation, Okabe learns that the two were Kurisu's colleagues in university, and that they have simulated her in Amadeus. Hired by Alexis to research the simulation's behavior, Okabe is given the chance to interact with the shadow of a long-lost dear friend. Dangerously tangled in the past, Okabe must face the harsh reality and carefully maneuver around the disastrous consequences that come with disturbing the natural flow of time.\"]"
      ]
     },
     "execution_count": 36,
     "metadata": {},
     "output_type": "execute_result"
    }
   ],
   "source": [
    "result_list"
   ]
  },
  {
   "cell_type": "code",
   "execution_count": 37,
   "metadata": {},
   "outputs": [],
   "source": [
    "template_translate = \"\"\"あなたはアニメをおすすめするレコメンドシステムです。\n",
    "以下の英語の文章は、アニメの紹介をしています。日本語に翻訳、意訳してください。\n",
    "\n",
    "-- \n",
    "- {input}\n",
    "\"\"\""
   ]
  },
  {
   "cell_type": "code",
   "execution_count": 38,
   "metadata": {},
   "outputs": [],
   "source": [
    "result_translate = []\n",
    "for l in result_list:\n",
    "    prompt = get_prompt(template_translate, l)\n",
    "    result = chain(prompt)\n",
    "    result_translate.append(result[\"result\"])"
   ]
  },
  {
   "cell_type": "code",
   "execution_count": 39,
   "metadata": {},
   "outputs": [
    {
     "data": {
      "text/plain": [
       "['- アニメ名：Re:Zero kara Hajimeru Isekai Seikatsu 第2シーズン\\nジャンル：心理、ドラマ、スリラー、ファンタジー\\n説明：これは「Re:Zero kara Hajimeru Isekai Seikatsu」の第2シーズンです。平和な時代の到来を予定していた連合は、スバル・ナツキとエミリアがイーラム村に戻ったときにすぐに破壊されます。罪の大司教として知られる災害によって残された荒廃を目の当たりにしたスバルは、やり直す能力が無駄であることに絶望します。グループが答えを求めて聖域へと進む中、スバルは貪欲の魔女エキドナと予期せぬ出会いをします。彼女の制御不能なリズムに従わざるを得なくなった彼は、過去と未来の渦に飛び込むことを強いられます。同時に、いくつかの謎の脅威が聖域を狙い、閉じ込められた無力な人々に恐ろしい運命を予告します。永遠の契約、過去の罪、報われない愛が衝突し、血の川に沈む「Re:Zero kara Hajimeru Isekai Seikatsu」の第2シーズン。絶望の淵に追い詰められたスバルの、愛する人々を救う決意はどれほど続くのでしょうか？',\n",
       " '- アニメ名：はじめの一歩\\nジャンル：コメディ、スポーツ、ドラマ、少年\\nあらすじ：物語は、生涯いじめられ続けてきた幕之内一歩を中心に展開します。ある日、彼はボクサーの鷹村守に助けられ、怪我から回復するためにボクシングジムに連れて行かれます。意識を取り戻すと、ジムの新しい環境に驚きます。鷹村は一歩のクラスメートの写真をパンチングバッグに貼り、一歩にパンチを打つよう強制します。それがきっかけで一歩の中に何かが芽生え、最終的には鷹村にボクシングのトレーニングを頼むようになります。自分自身と働き者の母親のために強くなるという突然の願望から、一歩は鷹村から与えられた時間制限内に課題を達成するために必死にトレーニングします。こうして一歩のボクシング界での頂点への旅が始まります。',\n",
       " '- アニメ名：Steins;Gate 0\\nジャンル：SF、スリラー\\n説明：自称マッドサイエンティストの奇人、岡部倫太郎はかつての自分の影になってしまいました。友人の牧瀬紅莉栖を救出することに失敗した後、彼は自身のマッドサイエンティストという別の人格を捨て、普通の大学生として生活することを決意します。彼のタイムトラベルの経験をほとんど知らない友人たちに囲まれ、岡部は一人での冒険の恐怖を忘れようと日々を過ごしています。大学のテクノロジーフォーラムで受付を務めているとき、岡部は小柄で元気な比屋定真帆に出会います。彼女は後にフォーラムのプレゼンテーションの通訳者であり、そのプレゼンテーションはアレクシス・レスキネン教授によって行われました。驚愕の観衆の前で、アレクシスと真帆はアマデウスを発表します。これは人の記憶を保存し、その人の性格や癖を完全に再現することができる革新的なAIです。プレゼンテーション後、真帆とアレクシスと会った岡部は、二人が大学で紅莉栖の同僚であり、彼女をアマデウスにシミュレートしたことを知ります。アレクシスによってシミュレーションの挙動を研究するために雇われた岡部は、失われた親友の影と交流する機会を得ます。過去と危険に絡まり合いながら、岡部は厳しい現実に直面し、時間の自然な流れを乱すことによる災厄的な結果を慎重に避けなければなりません。']"
      ]
     },
     "execution_count": 39,
     "metadata": {},
     "output_type": "execute_result"
    }
   ],
   "source": [
    "result_translate"
   ]
  },
  {
   "cell_type": "code",
   "execution_count": null,
   "metadata": {},
   "outputs": [],
   "source": []
  }
 ],
 "metadata": {
  "kernelspec": {
   "display_name": "llm-anime-recommendation-9TtSrW0h-py3.11",
   "language": "python",
   "name": "python3"
  },
  "language_info": {
   "codemirror_mode": {
    "name": "ipython",
    "version": 3
   },
   "file_extension": ".py",
   "mimetype": "text/x-python",
   "name": "python",
   "nbconvert_exporter": "python",
   "pygments_lexer": "ipython3",
   "version": "3.11.4"
  },
  "orig_nbformat": 4
 },
 "nbformat": 4,
 "nbformat_minor": 2
}
