{
 "cells": [
  {
   "cell_type": "code",
   "execution_count": 1,
   "metadata": {},
   "outputs": [],
   "source": [
    "import openai\n",
    "import re\n",
    "\n",
    "import pandas as pd\n",
    "\n",
    "from langchain import PromptTemplate\n",
    "from langchain.llms import OpenAI\n",
    "\n",
    "from langchain.document_loaders.csv_loader import CSVLoader\n",
    "from langchain.embeddings import OpenAIEmbeddings\n",
    "from langchain.chains import RetrievalQA\n",
    "from langchain.vectorstores import FAISS\n",
    "from langchain.text_splitter import RecursiveCharacterTextSplitter\n",
    "import numpy as np"
   ]
  },
  {
   "attachments": {},
   "cell_type": "markdown",
   "metadata": {},
   "source": [
    "- 好きなアニメを取得したい\n"
   ]
  },
  {
   "cell_type": "code",
   "execution_count": 2,
   "metadata": {},
   "outputs": [],
   "source": [
    "def get_prompt(template, input_text):\n",
    "    prompt = PromptTemplate(template=template, input_variables=[\"input\"])\n",
    "    prompt_text = prompt.format(input=input_text)\n",
    "\n",
    "    return prompt_text\n",
    "\n",
    "\n",
    "def get_anime_name(anime_name):\n",
    "    anime_list = anime_name.split(\"\\n\")\n",
    "    anime_list = [anime for anime in anime_list if anime]\n",
    "\n",
    "    return anime_list\n",
    "\n",
    "\n",
    "def create_index_data():\n",
    "    df = pd.read_csv(\"../data/anime_list.csv\")\n",
    "    df = df[[\"MAL_ID\", \"Name\", \"English name\", \"Japanese name\", \"Genres\"]]\n",
    "\n",
    "    # lowr\n",
    "    df[\"Name\"] = df[\"Name\"].str.lower()\n",
    "    df[\"English name\"] = df[\"English name\"].str.lower()\n",
    "    df[\"Japanese name\"] = df[\"Japanese name\"].str.lower()\n",
    "    df[\"Genres\"] = df[\"Genres\"].str.lower()\n",
    "\n",
    "    df.rename(columns={\"MAL_ID\": \"anime_id\"}, inplace=True)\n",
    "    df.to_csv(\"../data/index_data.csv\", index=False)\n",
    "\n",
    "\n",
    "def create_db():\n",
    "    loader = CSVLoader(file_path=\"../data/index_data.csv\")\n",
    "    documents = loader.load()\n",
    "    text_splitter = RecursiveCharacterTextSplitter(chunk_size=1000, chunk_overlap=0)\n",
    "    docs = text_splitter.split_documents(documents)\n",
    "    embeddings = OpenAIEmbeddings()\n",
    "    db = FAISS.from_documents(docs, embeddings)\n",
    "    db.save_local(\"../data/faiss_index\")\n",
    "\n",
    "\n",
    "def check_similarity_item(db, input):\n",
    "    input = input.lower()\n",
    "    sim = db.similarity_search_with_score(query=input, k=1)\n",
    "\n",
    "    anime_id = sim[0][0].page_content.split(\"\\n\")[0]\n",
    "    match = re.search(r\"anime_id:\\s*(\\d+)\", anime_id)\n",
    "    if match:\n",
    "        anime_id = int(match.group(1))\n",
    "    else:\n",
    "        anime_id = np.nan\n",
    "\n",
    "    anime_name = sim[0][0].page_content.split(\"\\n\")[1]\n",
    "    sim_value = sim[0][1]\n",
    "\n",
    "    print(anime_id, anime_name, sim_value)\n",
    "\n",
    "\n",
    "def get_similarity_item(db, input):\n",
    "    input = input.lower()\n",
    "    sim = db.similarity_search_with_score(query=input, k=1)\n",
    "\n",
    "    anime_id = sim[0][0].page_content.split(\"\\n\")[0]\n",
    "    match = re.search(r\"anime_id:\\s*(\\d+)\", anime_id)\n",
    "    if match:\n",
    "        anime_id = int(match.group(1))\n",
    "    else:\n",
    "        anime_id = np.nan\n",
    "\n",
    "    anime_name = sim[0][0].page_content.split(\"\\n\")[1]\n",
    "    sim_value = sim[0][1]\n",
    "\n",
    "    if sim_value >= 0.3:\n",
    "        return None\n",
    "    else:\n",
    "        return anime_id"
   ]
  },
  {
   "attachments": {},
   "cell_type": "markdown",
   "metadata": {},
   "source": [
    "### Create DB\n"
   ]
  },
  {
   "cell_type": "code",
   "execution_count": 3,
   "metadata": {},
   "outputs": [],
   "source": [
    "create_index_data()"
   ]
  },
  {
   "cell_type": "code",
   "execution_count": 4,
   "metadata": {},
   "outputs": [],
   "source": [
    "create_db()"
   ]
  },
  {
   "cell_type": "code",
   "execution_count": 5,
   "metadata": {},
   "outputs": [],
   "source": [
    "embeddings = OpenAIEmbeddings()\n",
    "db = FAISS.load_local(\"../data/faiss_index\", embeddings)"
   ]
  },
  {
   "cell_type": "code",
   "execution_count": 6,
   "metadata": {},
   "outputs": [],
   "source": [
    "llm = OpenAI()"
   ]
  },
  {
   "cell_type": "code",
   "execution_count": 7,
   "metadata": {},
   "outputs": [],
   "source": [
    "chain = RetrievalQA.from_chain_type(\n",
    "    llm, retriever=db.as_retriever(search_kwargs={\"k\": 1})\n",
    ")"
   ]
  },
  {
   "cell_type": "code",
   "execution_count": 12,
   "metadata": {},
   "outputs": [],
   "source": [
    "check_anime_list = [\n",
    "    \"Angel Beats\",\n",
    "    \"魔法使いプリキュア\",\n",
    "    \"Mahoutsukai Precure!\",\n",
    "    \"狼と香辛料\",\n",
    "    \"Ookami to Koushinryo\",\n",
    "    \"鬼滅の刃\",\n",
    "    \"Kimetsu no Yaiba\",\n",
    "]"
   ]
  },
  {
   "cell_type": "code",
   "execution_count": 13,
   "metadata": {},
   "outputs": [
    {
     "name": "stdout",
     "output_type": "stream",
     "text": [
      "6547 Name: angel beats! 0.25655705\n",
      "31884 Name: mahoutsukai precure! 0.31024\n",
      "31884 Name: mahoutsukai precure! 0.20275107\n",
      "2966 Name: ookami to koushinryou 0.34811774\n",
      "6007 Name: ookami to koushinryou ii: ookami to kohakuiro no yuuutsu 0.26174277\n",
      "30679 Name: queen's blade: grimoire 0.33600473\n",
      "38000 Name: kimetsu no yaiba 0.1943137\n"
     ]
    }
   ],
   "source": [
    "for anime in check_anime_list:\n",
    "    check_similarity_item(db, anime)"
   ]
  },
  {
   "cell_type": "code",
   "execution_count": null,
   "metadata": {},
   "outputs": [],
   "source": []
  },
  {
   "attachments": {},
   "cell_type": "markdown",
   "metadata": {},
   "source": [
    "### Prompt\n"
   ]
  },
  {
   "cell_type": "code",
   "execution_count": 14,
   "metadata": {},
   "outputs": [],
   "source": [
    "user_input = \"\"\"おすすめのアニメを教えてください。私が好きなアニメは以下の通りです。\n",
    "\n",
    "Angel Beats!\n",
    "Mahoutsukai Precure!\n",
    "Ookami to Koushinryou\n",
    "\"\"\""
   ]
  },
  {
   "cell_type": "code",
   "execution_count": 15,
   "metadata": {},
   "outputs": [],
   "source": [
    "template_user_input = \"\"\"以下の文章は、ユーザが好きなアニメの名前を列挙しています。\n",
    "アニメの名前を抽出し、出力しなさい。\n",
    "\n",
    "{input}\n",
    "\"\"\""
   ]
  },
  {
   "cell_type": "code",
   "execution_count": 16,
   "metadata": {},
   "outputs": [],
   "source": [
    "user_prompt = get_prompt(template_user_input, user_input)"
   ]
  },
  {
   "cell_type": "code",
   "execution_count": 17,
   "metadata": {},
   "outputs": [],
   "source": [
    "anime_list = llm(user_prompt)"
   ]
  },
  {
   "cell_type": "code",
   "execution_count": 18,
   "metadata": {},
   "outputs": [],
   "source": [
    "anime_list = get_anime_name(anime_list)"
   ]
  },
  {
   "cell_type": "code",
   "execution_count": 19,
   "metadata": {},
   "outputs": [
    {
     "data": {
      "text/plain": [
       "['Angel Beats!', 'Mahoutsukai Precure!', 'Ookami to Koushinryou']"
      ]
     },
     "execution_count": 19,
     "metadata": {},
     "output_type": "execute_result"
    }
   ],
   "source": [
    "anime_list"
   ]
  },
  {
   "cell_type": "code",
   "execution_count": 21,
   "metadata": {},
   "outputs": [],
   "source": [
    "anime_ids = []\n",
    "for item in anime_list:\n",
    "    anime_ids.append(get_similarity_item(db, item))"
   ]
  },
  {
   "cell_type": "code",
   "execution_count": 22,
   "metadata": {},
   "outputs": [
    {
     "data": {
      "text/plain": [
       "[6547, 31884, 6007]"
      ]
     },
     "execution_count": 22,
     "metadata": {},
     "output_type": "execute_result"
    }
   ],
   "source": [
    "anime_ids"
   ]
  },
  {
   "cell_type": "code",
   "execution_count": 23,
   "metadata": {},
   "outputs": [],
   "source": [
    "df = pd.read_csv(\"../data/index_data.csv\")"
   ]
  },
  {
   "cell_type": "code",
   "execution_count": 24,
   "metadata": {},
   "outputs": [
    {
     "data": {
      "text/html": [
       "<div>\n",
       "<style scoped>\n",
       "    .dataframe tbody tr th:only-of-type {\n",
       "        vertical-align: middle;\n",
       "    }\n",
       "\n",
       "    .dataframe tbody tr th {\n",
       "        vertical-align: top;\n",
       "    }\n",
       "\n",
       "    .dataframe thead th {\n",
       "        text-align: right;\n",
       "    }\n",
       "</style>\n",
       "<table border=\"1\" class=\"dataframe\">\n",
       "  <thead>\n",
       "    <tr style=\"text-align: right;\">\n",
       "      <th></th>\n",
       "      <th>anime_id</th>\n",
       "      <th>Name</th>\n",
       "      <th>English name</th>\n",
       "      <th>Japanese name</th>\n",
       "      <th>Genres</th>\n",
       "    </tr>\n",
       "  </thead>\n",
       "  <tbody>\n",
       "    <tr>\n",
       "      <th>2467</th>\n",
       "      <td>6007</td>\n",
       "      <td>ookami to koushinryou ii: ookami to kohakuiro ...</td>\n",
       "      <td>unknown</td>\n",
       "      <td>狼と香辛料ii 狼と琥珀色の憂鬱</td>\n",
       "      <td>adventure, fantasy, historical, romance</td>\n",
       "    </tr>\n",
       "    <tr>\n",
       "      <th>2565</th>\n",
       "      <td>6547</td>\n",
       "      <td>angel beats!</td>\n",
       "      <td>angel beats!</td>\n",
       "      <td>angel beats!（エンジェルビーツ）</td>\n",
       "      <td>action, comedy, drama, school, supernatural</td>\n",
       "    </tr>\n",
       "    <tr>\n",
       "      <th>4144</th>\n",
       "      <td>31884</td>\n",
       "      <td>mahoutsukai precure!</td>\n",
       "      <td>maho girls precure!</td>\n",
       "      <td>魔法つかいプリキュア！</td>\n",
       "      <td>action, slice of life, magic, fantasy, school,...</td>\n",
       "    </tr>\n",
       "  </tbody>\n",
       "</table>\n",
       "</div>"
      ],
      "text/plain": [
       "      anime_id                                               Name  \\\n",
       "2467      6007  ookami to koushinryou ii: ookami to kohakuiro ...   \n",
       "2565      6547                                       angel beats!   \n",
       "4144     31884                               mahoutsukai precure!   \n",
       "\n",
       "             English name           Japanese name  \\\n",
       "2467              unknown        狼と香辛料ii 狼と琥珀色の憂鬱   \n",
       "2565         angel beats!  angel beats!（エンジェルビーツ）   \n",
       "4144  maho girls precure!             魔法つかいプリキュア！   \n",
       "\n",
       "                                                 Genres  \n",
       "2467            adventure, fantasy, historical, romance  \n",
       "2565        action, comedy, drama, school, supernatural  \n",
       "4144  action, slice of life, magic, fantasy, school,...  "
      ]
     },
     "execution_count": 24,
     "metadata": {},
     "output_type": "execute_result"
    }
   ],
   "source": [
    "df[df[\"anime_id\"].isin(anime_ids)]"
   ]
  },
  {
   "cell_type": "code",
   "execution_count": null,
   "metadata": {},
   "outputs": [],
   "source": []
  }
 ],
 "metadata": {
  "kernelspec": {
   "display_name": "llm-anime-recommendation-9TtSrW0h-py3.11",
   "language": "python",
   "name": "python3"
  },
  "language_info": {
   "codemirror_mode": {
    "name": "ipython",
    "version": 3
   },
   "file_extension": ".py",
   "mimetype": "text/x-python",
   "name": "python",
   "nbconvert_exporter": "python",
   "pygments_lexer": "ipython3",
   "version": "3.11.4"
  },
  "orig_nbformat": 4
 },
 "nbformat": 4,
 "nbformat_minor": 2
}
