{
 "cells": [
  {
   "cell_type": "code",
   "execution_count": 1,
   "metadata": {},
   "outputs": [],
   "source": [
    "import openai\n",
    "import re\n",
    "\n",
    "import pandas as pd\n",
    "\n",
    "from langchain import PromptTemplate\n",
    "from langchain.llms import OpenAI\n",
    "\n",
    "from langchain.document_loaders.csv_loader import CSVLoader\n",
    "from langchain.embeddings import OpenAIEmbeddings\n",
    "from langchain.chains import RetrievalQA\n",
    "from langchain.vectorstores import FAISS\n",
    "from langchain.text_splitter import RecursiveCharacterTextSplitter\n",
    "import numpy as np\n",
    "\n",
    "import pickle\n",
    "import datetime\n",
    "from river import metrics, optim, reco"
   ]
  },
  {
   "attachments": {},
   "cell_type": "markdown",
   "metadata": {},
   "source": [
    "- 好きなアニメを取得したい\n"
   ]
  },
  {
   "cell_type": "code",
   "execution_count": 2,
   "metadata": {},
   "outputs": [],
   "source": [
    "def get_prompt(template, input_text):\n",
    "    prompt = PromptTemplate(template=template, input_variables=[\"input\"])\n",
    "    prompt_text = prompt.format(input=input_text)\n",
    "\n",
    "    return prompt_text\n",
    "\n",
    "\n",
    "def get_anime_name(anime_name):\n",
    "    anime_list = anime_name.split(\"\\n\")\n",
    "    anime_list = [anime for anime in anime_list if anime]\n",
    "\n",
    "    return anime_list\n",
    "\n",
    "\n",
    "def create_index_data():\n",
    "    df = pd.read_csv(\"../data/anime_list.csv\")\n",
    "    df = df[[\"MAL_ID\", \"Name\", \"English name\", \"Japanese name\", \"Genres\"]]\n",
    "\n",
    "    # lowr\n",
    "    df[\"Name\"] = df[\"Name\"].str.lower()\n",
    "    df[\"English name\"] = df[\"English name\"].str.lower()\n",
    "    df[\"Japanese name\"] = df[\"Japanese name\"].str.lower()\n",
    "    df[\"Genres\"] = df[\"Genres\"].str.lower()\n",
    "\n",
    "    df.rename(columns={\"MAL_ID\": \"anime_id\"}, inplace=True)\n",
    "    df.to_csv(\"../data/index_data.csv\", index=False)\n",
    "\n",
    "\n",
    "def create_db():\n",
    "    loader = CSVLoader(file_path=\"../data/index_data.csv\")\n",
    "    documents = loader.load()\n",
    "    text_splitter = RecursiveCharacterTextSplitter(chunk_size=1000, chunk_overlap=0)\n",
    "    docs = text_splitter.split_documents(documents)\n",
    "    embeddings = OpenAIEmbeddings()\n",
    "    db = FAISS.from_documents(docs, embeddings)\n",
    "    db.save_local(\"../data/faiss_index\")\n",
    "\n",
    "\n",
    "def check_similarity_item(db, input):\n",
    "    input = input.lower()\n",
    "    sim = db.similarity_search_with_score(query=input, k=1)\n",
    "\n",
    "    anime_id = sim[0][0].page_content.split(\"\\n\")[0]\n",
    "    match = re.search(r\"anime_id:\\s*(\\d+)\", anime_id)\n",
    "    if match:\n",
    "        anime_id = int(match.group(1))\n",
    "    else:\n",
    "        anime_id = np.nan\n",
    "\n",
    "    anime_name = sim[0][0].page_content.split(\"\\n\")[1]\n",
    "    sim_value = sim[0][1]\n",
    "\n",
    "    print(anime_id, anime_name, sim_value)\n",
    "\n",
    "\n",
    "def get_similarity_item(db, input):\n",
    "    input = input.lower()\n",
    "    sim = db.similarity_search_with_score(query=input, k=1)\n",
    "\n",
    "    anime_id = sim[0][0].page_content.split(\"\\n\")[0]\n",
    "    match = re.search(r\"anime_id:\\s*(\\d+)\", anime_id)\n",
    "    if match:\n",
    "        anime_id = int(match.group(1))\n",
    "    else:\n",
    "        anime_id = np.nan\n",
    "\n",
    "    anime_name = sim[0][0].page_content.split(\"\\n\")[1]\n",
    "    sim_value = sim[0][1]\n",
    "\n",
    "    if sim_value >= 0.3:\n",
    "        return None\n",
    "    else:\n",
    "        return anime_id"
   ]
  },
  {
   "attachments": {},
   "cell_type": "markdown",
   "metadata": {},
   "source": [
    "### Create DB\n"
   ]
  },
  {
   "cell_type": "code",
   "execution_count": 3,
   "metadata": {},
   "outputs": [],
   "source": [
    "create_index_data()"
   ]
  },
  {
   "cell_type": "code",
   "execution_count": 4,
   "metadata": {},
   "outputs": [],
   "source": [
    "# create_db()"
   ]
  },
  {
   "cell_type": "code",
   "execution_count": 5,
   "metadata": {},
   "outputs": [],
   "source": [
    "embeddings = OpenAIEmbeddings()\n",
    "db = FAISS.load_local(\"../data/faiss_index\", embeddings)"
   ]
  },
  {
   "cell_type": "code",
   "execution_count": 6,
   "metadata": {},
   "outputs": [],
   "source": [
    "llm = OpenAI()"
   ]
  },
  {
   "cell_type": "code",
   "execution_count": null,
   "metadata": {},
   "outputs": [],
   "source": []
  },
  {
   "cell_type": "code",
   "execution_count": 7,
   "metadata": {},
   "outputs": [],
   "source": [
    "check_anime_list = [\n",
    "    \"Angel Beats\",\n",
    "    \"魔法使いプリキュア\",\n",
    "    \"Mahoutsukai Precure!\",\n",
    "    \"狼と香辛料\",\n",
    "    \"Ookami to Koushinryo\",\n",
    "    \"鬼滅の刃\",\n",
    "    \"Kimetsu no Yaiba\",\n",
    "]"
   ]
  },
  {
   "cell_type": "code",
   "execution_count": 8,
   "metadata": {},
   "outputs": [
    {
     "name": "stdout",
     "output_type": "stream",
     "text": [
      "6547 Name: angel beats! 0.25639322\n",
      "31884 Name: mahoutsukai precure! 0.31024\n",
      "31884 Name: mahoutsukai precure! 0.20283352\n",
      "2966 Name: ookami to koushinryou 0.34811774\n",
      "6007 Name: ookami to koushinryou ii: ookami to kohakuiro no yuuutsu 0.26174277\n",
      "30679 Name: queen's blade: grimoire 0.33600473\n",
      "38000 Name: kimetsu no yaiba 0.1943137\n"
     ]
    }
   ],
   "source": [
    "for anime in check_anime_list:\n",
    "    check_similarity_item(db, anime)"
   ]
  },
  {
   "cell_type": "code",
   "execution_count": null,
   "metadata": {},
   "outputs": [],
   "source": []
  },
  {
   "attachments": {},
   "cell_type": "markdown",
   "metadata": {},
   "source": [
    "### Prompt\n"
   ]
  },
  {
   "cell_type": "code",
   "execution_count": 9,
   "metadata": {},
   "outputs": [],
   "source": [
    "# user_input = \"\"\"おすすめのアニメを教えてください。私が好きなアニメは以下の通りです。\n",
    "\n",
    "# Angel Beats!\n",
    "# Mahoutsukai Precure!\n",
    "# Ookami to Koushinryou\n",
    "# \"\"\"\n",
    "\n",
    "user_input = \"\"\"おすすめのアニメを教えてください。私が好きなアニメは以下の通りです。\n",
    "\n",
    "Angel Beats!\n",
    "Mahoutsukai Precure!\n",
    "Ookami to Koushinryou\n",
    "Shinsekai yori\n",
    "Shugo Chara!\n",
    "Uma Musume: Pretty Derby (TV)\n",
    "Fate/Zero\n",
    "Uchuu Senkan Yamato 2199\n",
    "\"\"\""
   ]
  },
  {
   "cell_type": "code",
   "execution_count": 10,
   "metadata": {},
   "outputs": [],
   "source": [
    "template_user_input = \"\"\"以下の文章は、ユーザが好きなアニメの名前を列挙しています。\n",
    "アニメの名前を抽出し、出力しなさい。\n",
    "\n",
    "{input}\n",
    "\"\"\""
   ]
  },
  {
   "cell_type": "code",
   "execution_count": 11,
   "metadata": {},
   "outputs": [],
   "source": [
    "user_prompt = get_prompt(template_user_input, user_input)"
   ]
  },
  {
   "cell_type": "code",
   "execution_count": 12,
   "metadata": {},
   "outputs": [],
   "source": [
    "candidate_list = llm(user_prompt)"
   ]
  },
  {
   "cell_type": "code",
   "execution_count": 13,
   "metadata": {},
   "outputs": [],
   "source": [
    "candidate_list = get_anime_name(candidate_list)"
   ]
  },
  {
   "cell_type": "code",
   "execution_count": 14,
   "metadata": {},
   "outputs": [
    {
     "data": {
      "text/plain": [
       "['Angel Beats!',\n",
       " 'Mahoutsukai Precure!',\n",
       " 'Ookami to Koushinryou',\n",
       " 'Shinsekai yori',\n",
       " 'Shugo Chara!',\n",
       " 'Uma Musume: Pretty Derby (TV)',\n",
       " 'Fate/Zero',\n",
       " 'Uchuu Senkan Yamato 2199']"
      ]
     },
     "execution_count": 14,
     "metadata": {},
     "output_type": "execute_result"
    }
   ],
   "source": [
    "candidate_list"
   ]
  },
  {
   "cell_type": "code",
   "execution_count": 15,
   "metadata": {},
   "outputs": [],
   "source": [
    "rated_anime_ids = []\n",
    "for item in candidate_list:\n",
    "    rated_anime_ids.append(get_similarity_item(db, item))"
   ]
  },
  {
   "cell_type": "code",
   "execution_count": 16,
   "metadata": {},
   "outputs": [
    {
     "data": {
      "text/plain": [
       "[6547, 31884, 6007, 13125, 2923, 35249, 10087, 12029]"
      ]
     },
     "execution_count": 16,
     "metadata": {},
     "output_type": "execute_result"
    }
   ],
   "source": [
    "rated_anime_ids"
   ]
  },
  {
   "cell_type": "code",
   "execution_count": 17,
   "metadata": {},
   "outputs": [],
   "source": [
    "# anime_ids = [6547, 31884, 6007]"
   ]
  },
  {
   "cell_type": "code",
   "execution_count": 18,
   "metadata": {},
   "outputs": [],
   "source": [
    "anime_list = pd.read_csv(\"../data/index_data.csv\")"
   ]
  },
  {
   "cell_type": "code",
   "execution_count": 19,
   "metadata": {},
   "outputs": [
    {
     "data": {
      "text/html": [
       "<div>\n",
       "<style scoped>\n",
       "    .dataframe tbody tr th:only-of-type {\n",
       "        vertical-align: middle;\n",
       "    }\n",
       "\n",
       "    .dataframe tbody tr th {\n",
       "        vertical-align: top;\n",
       "    }\n",
       "\n",
       "    .dataframe thead th {\n",
       "        text-align: right;\n",
       "    }\n",
       "</style>\n",
       "<table border=\"1\" class=\"dataframe\">\n",
       "  <thead>\n",
       "    <tr style=\"text-align: right;\">\n",
       "      <th></th>\n",
       "      <th>anime_id</th>\n",
       "      <th>Name</th>\n",
       "      <th>English name</th>\n",
       "      <th>Japanese name</th>\n",
       "      <th>Genres</th>\n",
       "    </tr>\n",
       "  </thead>\n",
       "  <tbody>\n",
       "    <tr>\n",
       "      <th>1742</th>\n",
       "      <td>2923</td>\n",
       "      <td>shugo chara!</td>\n",
       "      <td>shugo chara!</td>\n",
       "      <td>しゅごキャラ！</td>\n",
       "      <td>comedy, magic, school, shoujo</td>\n",
       "    </tr>\n",
       "    <tr>\n",
       "      <th>2467</th>\n",
       "      <td>6007</td>\n",
       "      <td>ookami to koushinryou ii: ookami to kohakuiro ...</td>\n",
       "      <td>unknown</td>\n",
       "      <td>狼と香辛料ii 狼と琥珀色の憂鬱</td>\n",
       "      <td>adventure, fantasy, historical, romance</td>\n",
       "    </tr>\n",
       "    <tr>\n",
       "      <th>2565</th>\n",
       "      <td>6547</td>\n",
       "      <td>angel beats!</td>\n",
       "      <td>angel beats!</td>\n",
       "      <td>angel beats!（エンジェルビーツ）</td>\n",
       "      <td>action, comedy, drama, school, supernatural</td>\n",
       "    </tr>\n",
       "    <tr>\n",
       "      <th>2945</th>\n",
       "      <td>10087</td>\n",
       "      <td>fate/zero</td>\n",
       "      <td>fate/zero</td>\n",
       "      <td>フェイト/ゼロ</td>\n",
       "      <td>action, supernatural, magic, fantasy</td>\n",
       "    </tr>\n",
       "    <tr>\n",
       "      <th>3140</th>\n",
       "      <td>12029</td>\n",
       "      <td>uchuu senkan yamato 2199</td>\n",
       "      <td>star blazers:space battleship yamato 2199</td>\n",
       "      <td>宇宙戦艦ヤマト2199</td>\n",
       "      <td>action, military, sci-fi, space, drama</td>\n",
       "    </tr>\n",
       "    <tr>\n",
       "      <th>3210</th>\n",
       "      <td>13125</td>\n",
       "      <td>shinsekai yori</td>\n",
       "      <td>from the new world</td>\n",
       "      <td>新世界より</td>\n",
       "      <td>drama, horror, mystery, psychological, sci-fi,...</td>\n",
       "    </tr>\n",
       "    <tr>\n",
       "      <th>4144</th>\n",
       "      <td>31884</td>\n",
       "      <td>mahoutsukai precure!</td>\n",
       "      <td>maho girls precure!</td>\n",
       "      <td>魔法つかいプリキュア！</td>\n",
       "      <td>action, slice of life, magic, fantasy, school,...</td>\n",
       "    </tr>\n",
       "    <tr>\n",
       "      <th>4550</th>\n",
       "      <td>35249</td>\n",
       "      <td>uma musume: pretty derby (tv)</td>\n",
       "      <td>umamusume:pretty derby</td>\n",
       "      <td>ウマ娘 プリティーダービー</td>\n",
       "      <td>comedy, slice of life, sports</td>\n",
       "    </tr>\n",
       "  </tbody>\n",
       "</table>\n",
       "</div>"
      ],
      "text/plain": [
       "      anime_id                                               Name  \\\n",
       "1742      2923                                       shugo chara!   \n",
       "2467      6007  ookami to koushinryou ii: ookami to kohakuiro ...   \n",
       "2565      6547                                       angel beats!   \n",
       "2945     10087                                          fate/zero   \n",
       "3140     12029                           uchuu senkan yamato 2199   \n",
       "3210     13125                                     shinsekai yori   \n",
       "4144     31884                               mahoutsukai precure!   \n",
       "4550     35249                      uma musume: pretty derby (tv)   \n",
       "\n",
       "                                   English name           Japanese name  \\\n",
       "1742                               shugo chara!                 しゅごキャラ！   \n",
       "2467                                    unknown        狼と香辛料ii 狼と琥珀色の憂鬱   \n",
       "2565                               angel beats!  angel beats!（エンジェルビーツ）   \n",
       "2945                                  fate/zero                 フェイト/ゼロ   \n",
       "3140  star blazers:space battleship yamato 2199             宇宙戦艦ヤマト2199   \n",
       "3210                         from the new world                   新世界より   \n",
       "4144                        maho girls precure!             魔法つかいプリキュア！   \n",
       "4550                     umamusume:pretty derby           ウマ娘 プリティーダービー   \n",
       "\n",
       "                                                 Genres  \n",
       "1742                      comedy, magic, school, shoujo  \n",
       "2467            adventure, fantasy, historical, romance  \n",
       "2565        action, comedy, drama, school, supernatural  \n",
       "2945               action, supernatural, magic, fantasy  \n",
       "3140             action, military, sci-fi, space, drama  \n",
       "3210  drama, horror, mystery, psychological, sci-fi,...  \n",
       "4144  action, slice of life, magic, fantasy, school,...  \n",
       "4550                      comedy, slice of life, sports  "
      ]
     },
     "execution_count": 19,
     "metadata": {},
     "output_type": "execute_result"
    }
   ],
   "source": [
    "anime_list[anime_list[\"anime_id\"].isin(rated_anime_ids)]"
   ]
  },
  {
   "cell_type": "code",
   "execution_count": 20,
   "metadata": {},
   "outputs": [],
   "source": [
    "# online learning"
   ]
  },
  {
   "cell_type": "code",
   "execution_count": 21,
   "metadata": {},
   "outputs": [],
   "source": [
    "with open(\"../data/model.pkl\", \"rb\") as f:\n",
    "    model = pickle.load(f)"
   ]
  },
  {
   "cell_type": "code",
   "execution_count": 22,
   "metadata": {},
   "outputs": [],
   "source": [
    "def create_user_uid():\n",
    "    now = datetime.datetime.now()\n",
    "    user_id = now.strftime(\"%Y%m%d%H%M%S\")\n",
    "    user_id = int(user_id)\n",
    "\n",
    "    return user_id"
   ]
  },
  {
   "cell_type": "code",
   "execution_count": 23,
   "metadata": {},
   "outputs": [],
   "source": [
    "user_id = create_user_uid()"
   ]
  },
  {
   "cell_type": "code",
   "execution_count": 24,
   "metadata": {},
   "outputs": [],
   "source": [
    "dataset = anime_list[anime_list[\"anime_id\"].isin(rated_anime_ids)]"
   ]
  },
  {
   "cell_type": "code",
   "execution_count": 25,
   "metadata": {},
   "outputs": [],
   "source": [
    "dataset = dataset[dataset[\"anime_id\"].isin(rated_anime_ids)]\n",
    "dataset[\"user_id\"] = user_id\n",
    "dataset[\"rating\"] = 10"
   ]
  },
  {
   "cell_type": "code",
   "execution_count": 26,
   "metadata": {},
   "outputs": [],
   "source": [
    "dataset = dataset[[\"user_id\", \"anime_id\", \"rating\"]].to_dict(orient=\"records\")"
   ]
  },
  {
   "cell_type": "code",
   "execution_count": 27,
   "metadata": {},
   "outputs": [],
   "source": [
    "metric = metrics.MAE() + metrics.RMSE()"
   ]
  },
  {
   "cell_type": "code",
   "execution_count": 28,
   "metadata": {},
   "outputs": [],
   "source": [
    "# Update model\n",
    "for data in dataset:\n",
    "    y_pred = model.predict_one(user=data[\"user_id\"], item=data[\"anime_id\"])\n",
    "    metric = metric.update(data[\"rating\"], y_pred)\n",
    "    model = model.learn_one(\n",
    "        user=data[\"user_id\"], item=data[\"anime_id\"], y=data[\"rating\"]\n",
    "    )"
   ]
  },
  {
   "cell_type": "code",
   "execution_count": 29,
   "metadata": {},
   "outputs": [
    {
     "data": {
      "text/plain": [
       "MAE: 1.822499, RMSE: 1.865068"
      ]
     },
     "execution_count": 29,
     "metadata": {},
     "output_type": "execute_result"
    }
   ],
   "source": [
    "metric"
   ]
  },
  {
   "cell_type": "code",
   "execution_count": 30,
   "metadata": {},
   "outputs": [],
   "source": [
    "def predict(user_id, anime_list, rated_anime_ids):\n",
    "    # predict recommend item\n",
    "    result_df = model.rank(user=user_id, items=anime_list[\"anime_id\"])\n",
    "    result_df = pd.DataFrame(result_df, columns=[\"anime_id\"])\n",
    "    result_df = pd.merge(result_df, anime_list, on=[\"anime_id\"], how=\"inner\")\n",
    "\n",
    "    # # remove rated item\n",
    "    result_df = result_df[~result_df[\"anime_id\"].isin(rated_anime_ids)]\n",
    "    result_df = result_df.reset_index(drop=True)[0:10]\n",
    "\n",
    "    return result_df"
   ]
  },
  {
   "cell_type": "code",
   "execution_count": 31,
   "metadata": {},
   "outputs": [],
   "source": [
    "recommend_result = predict(user_id, anime_list, rated_anime_ids)"
   ]
  },
  {
   "cell_type": "code",
   "execution_count": 32,
   "metadata": {},
   "outputs": [
    {
     "data": {
      "text/html": [
       "<div>\n",
       "<style scoped>\n",
       "    .dataframe tbody tr th:only-of-type {\n",
       "        vertical-align: middle;\n",
       "    }\n",
       "\n",
       "    .dataframe tbody tr th {\n",
       "        vertical-align: top;\n",
       "    }\n",
       "\n",
       "    .dataframe thead th {\n",
       "        text-align: right;\n",
       "    }\n",
       "</style>\n",
       "<table border=\"1\" class=\"dataframe\">\n",
       "  <thead>\n",
       "    <tr style=\"text-align: right;\">\n",
       "      <th></th>\n",
       "      <th>anime_id</th>\n",
       "      <th>Name</th>\n",
       "      <th>English name</th>\n",
       "      <th>Japanese name</th>\n",
       "      <th>Genres</th>\n",
       "    </tr>\n",
       "  </thead>\n",
       "  <tbody>\n",
       "    <tr>\n",
       "      <th>0</th>\n",
       "      <td>2004</td>\n",
       "      <td>hanada shounen-shi</td>\n",
       "      <td>unknown</td>\n",
       "      <td>花田少年史</td>\n",
       "      <td>comedy, drama, seinen, slice of life, supernat...</td>\n",
       "    </tr>\n",
       "    <tr>\n",
       "      <th>1</th>\n",
       "      <td>457</td>\n",
       "      <td>mushishi</td>\n",
       "      <td>mushi-shi</td>\n",
       "      <td>蟲師</td>\n",
       "      <td>adventure, slice of life, mystery, historical,...</td>\n",
       "    </tr>\n",
       "    <tr>\n",
       "      <th>2</th>\n",
       "      <td>9253</td>\n",
       "      <td>steins;gate</td>\n",
       "      <td>steins;gate</td>\n",
       "      <td>steins;gate</td>\n",
       "      <td>thriller, sci-fi</td>\n",
       "    </tr>\n",
       "    <tr>\n",
       "      <th>3</th>\n",
       "      <td>820</td>\n",
       "      <td>ginga eiyuu densetsu</td>\n",
       "      <td>legend of the galactic heroes</td>\n",
       "      <td>銀河英雄伝説</td>\n",
       "      <td>military, sci-fi, space, drama</td>\n",
       "    </tr>\n",
       "    <tr>\n",
       "      <th>4</th>\n",
       "      <td>12431</td>\n",
       "      <td>uchuu kyoudai</td>\n",
       "      <td>space brothers</td>\n",
       "      <td>宇宙兄弟</td>\n",
       "      <td>comedy, sci-fi, seinen, slice of life, space</td>\n",
       "    </tr>\n",
       "    <tr>\n",
       "      <th>5</th>\n",
       "      <td>5941</td>\n",
       "      <td>cross game</td>\n",
       "      <td>cross game</td>\n",
       "      <td>クロスゲーム</td>\n",
       "      <td>comedy, drama, romance, school, shounen, sports</td>\n",
       "    </tr>\n",
       "    <tr>\n",
       "      <th>6</th>\n",
       "      <td>31098</td>\n",
       "      <td>ushio to tora (tv) 2nd season</td>\n",
       "      <td>ushio &amp; tora</td>\n",
       "      <td>うしおととら</td>\n",
       "      <td>action, adventure, comedy, demons, supernatura...</td>\n",
       "    </tr>\n",
       "    <tr>\n",
       "      <th>7</th>\n",
       "      <td>33095</td>\n",
       "      <td>shouwa genroku rakugo shinjuu: sukeroku futata...</td>\n",
       "      <td>descending stories:showa genroku rakugo shinju</td>\n",
       "      <td>昭和元禄落語心中～助六再び篇～</td>\n",
       "      <td>drama, historical, josei</td>\n",
       "    </tr>\n",
       "    <tr>\n",
       "      <th>8</th>\n",
       "      <td>21939</td>\n",
       "      <td>mushishi zoku shou</td>\n",
       "      <td>mushi-shi -next passage-</td>\n",
       "      <td>蟲師 続章</td>\n",
       "      <td>adventure, slice of life, mystery, historical,...</td>\n",
       "    </tr>\n",
       "    <tr>\n",
       "      <th>9</th>\n",
       "      <td>11061</td>\n",
       "      <td>hunter x hunter (2011)</td>\n",
       "      <td>hunter x hunter</td>\n",
       "      <td>hunter×hunter（ハンター×ハンター）</td>\n",
       "      <td>action, adventure, fantasy, shounen, super power</td>\n",
       "    </tr>\n",
       "  </tbody>\n",
       "</table>\n",
       "</div>"
      ],
      "text/plain": [
       "   anime_id                                               Name  \\\n",
       "0      2004                                 hanada shounen-shi   \n",
       "1       457                                           mushishi   \n",
       "2      9253                                        steins;gate   \n",
       "3       820                               ginga eiyuu densetsu   \n",
       "4     12431                                      uchuu kyoudai   \n",
       "5      5941                                         cross game   \n",
       "6     31098                      ushio to tora (tv) 2nd season   \n",
       "7     33095  shouwa genroku rakugo shinjuu: sukeroku futata...   \n",
       "8     21939                                 mushishi zoku shou   \n",
       "9     11061                             hunter x hunter (2011)   \n",
       "\n",
       "                                     English name             Japanese name  \\\n",
       "0                                         unknown                     花田少年史   \n",
       "1                                       mushi-shi                        蟲師   \n",
       "2                                     steins;gate               steins;gate   \n",
       "3                   legend of the galactic heroes                    銀河英雄伝説   \n",
       "4                                  space brothers                      宇宙兄弟   \n",
       "5                                      cross game                    クロスゲーム   \n",
       "6                                    ushio & tora                    うしおととら   \n",
       "7  descending stories:showa genroku rakugo shinju           昭和元禄落語心中～助六再び篇～   \n",
       "8                        mushi-shi -next passage-                     蟲師 続章   \n",
       "9                                 hunter x hunter  hunter×hunter（ハンター×ハンター）   \n",
       "\n",
       "                                              Genres  \n",
       "0  comedy, drama, seinen, slice of life, supernat...  \n",
       "1  adventure, slice of life, mystery, historical,...  \n",
       "2                                   thriller, sci-fi  \n",
       "3                     military, sci-fi, space, drama  \n",
       "4       comedy, sci-fi, seinen, slice of life, space  \n",
       "5    comedy, drama, romance, school, shounen, sports  \n",
       "6  action, adventure, comedy, demons, supernatura...  \n",
       "7                           drama, historical, josei  \n",
       "8  adventure, slice of life, mystery, historical,...  \n",
       "9   action, adventure, fantasy, shounen, super power  "
      ]
     },
     "execution_count": 32,
     "metadata": {},
     "output_type": "execute_result"
    }
   ],
   "source": [
    "recommend_result"
   ]
  },
  {
   "cell_type": "code",
   "execution_count": 33,
   "metadata": {},
   "outputs": [],
   "source": [
    "chain = RetrievalQA.from_chain_type(\n",
    "    # llm, retriever=db.as_retriever(search_kwargs={\"k\": 1})\n",
    "    llm,\n",
    "    retriever=db.as_retriever(),\n",
    ")"
   ]
  },
  {
   "cell_type": "code",
   "execution_count": 34,
   "metadata": {},
   "outputs": [],
   "source": [
    "template_recommend = f\"\"\"あなたはおすすめのアニメをレコメンドするレコメンドシステムです。\n",
    "以下の情報をまとめて、ユーザにアニメを紹介してください。\n",
    "また、そのアニメのジャンルも教えてください。ジャンルは日本語で表示してください。\n",
    "\n",
    "--\n",
    "アニメ名: {recommend_result[\"Name\"].values[0]}\n",
    "アニメ名: {recommend_result[\"Name\"].values[1]}\n",
    "アニメ名: {recommend_result[\"Name\"].values[2]}\n",
    "\"\"\""
   ]
  },
  {
   "cell_type": "code",
   "execution_count": 35,
   "metadata": {},
   "outputs": [],
   "source": [
    "template_recommend = f\"\"\"あなたはおすすめのアニメをレコメンドするレコメンドシステムです。\n",
    "以下の情報をまとめて、ユーザにアニメを紹介してください。\n",
    "また、そのアニメのジャンルも教えてください。アニメ名、ジャンルは日本語で表示してください。\n",
    "\n",
    "----\n",
    "おすすめアニメリスト:\n",
    "アニメ名: {recommend_result[\"Name\"].values[0]}\n",
    "アニメ名: {recommend_result[\"Name\"].values[1]}\n",
    "アニメ名: {recommend_result[\"Name\"].values[2]}\n",
    "アニメ名: {recommend_result[\"Name\"].values[3]}\n",
    "アニメ名: {recommend_result[\"Name\"].values[4]}\n",
    "----\n",
    "\n",
    "出力は以下の形式で出力してください。\n",
    "----\n",
    "出力例:\n",
    "以下がおすすめのアニメです。\n",
    "1. アニメ名 - ジャンルはX, Y, Zです。\n",
    "2. アニメ名 - ジャンルはX, Y, Zです。\n",
    "3. アニメ名 - ジャンルはX, Y, Zです。\n",
    "4. アニメ名 - ジャンルはX, Y, Zです。\n",
    "5. アニメ名 - ジャンルはX, Y, Zです。\n",
    "----\n",
    "\"\"\""
   ]
  },
  {
   "cell_type": "code",
   "execution_count": 36,
   "metadata": {},
   "outputs": [],
   "source": [
    "result = chain(template_recommend)"
   ]
  },
  {
   "cell_type": "code",
   "execution_count": 37,
   "metadata": {},
   "outputs": [
    {
     "name": "stdout",
     "output_type": "stream",
     "text": [
      " 以下がおすすめのアニメです。\n",
      "1. ハナダ少年史 - ジャンルは短編劇場、ドラマ、青春です。\n",
      "2. 蟲師 - ジャンルは冒険、ファンタジー、スリラーです。\n",
      "3. シュタインズ・ゲート - ジャンルはサスペンス、科学フィクションです。\n",
      "4. 銀河英雄伝説 - ジャンルは冒険、SF、ファンタジーです。\n",
      "5. 宇宙兄弟 - ジャンルは冒険、コメディ、宇宙、SFです。\n"
     ]
    }
   ],
   "source": [
    "print(result[\"result\"])"
   ]
  },
  {
   "cell_type": "code",
   "execution_count": 38,
   "metadata": {},
   "outputs": [
    {
     "data": {
      "text/html": [
       "<div>\n",
       "<style scoped>\n",
       "    .dataframe tbody tr th:only-of-type {\n",
       "        vertical-align: middle;\n",
       "    }\n",
       "\n",
       "    .dataframe tbody tr th {\n",
       "        vertical-align: top;\n",
       "    }\n",
       "\n",
       "    .dataframe thead th {\n",
       "        text-align: right;\n",
       "    }\n",
       "</style>\n",
       "<table border=\"1\" class=\"dataframe\">\n",
       "  <thead>\n",
       "    <tr style=\"text-align: right;\">\n",
       "      <th></th>\n",
       "      <th>Name</th>\n",
       "      <th>Japanese name</th>\n",
       "      <th>Genres</th>\n",
       "    </tr>\n",
       "  </thead>\n",
       "  <tbody>\n",
       "    <tr>\n",
       "      <th>0</th>\n",
       "      <td>hanada shounen-shi</td>\n",
       "      <td>花田少年史</td>\n",
       "      <td>comedy, drama, seinen, slice of life, supernat...</td>\n",
       "    </tr>\n",
       "    <tr>\n",
       "      <th>1</th>\n",
       "      <td>mushishi</td>\n",
       "      <td>蟲師</td>\n",
       "      <td>adventure, slice of life, mystery, historical,...</td>\n",
       "    </tr>\n",
       "    <tr>\n",
       "      <th>2</th>\n",
       "      <td>steins;gate</td>\n",
       "      <td>steins;gate</td>\n",
       "      <td>thriller, sci-fi</td>\n",
       "    </tr>\n",
       "    <tr>\n",
       "      <th>3</th>\n",
       "      <td>ginga eiyuu densetsu</td>\n",
       "      <td>銀河英雄伝説</td>\n",
       "      <td>military, sci-fi, space, drama</td>\n",
       "    </tr>\n",
       "    <tr>\n",
       "      <th>4</th>\n",
       "      <td>uchuu kyoudai</td>\n",
       "      <td>宇宙兄弟</td>\n",
       "      <td>comedy, sci-fi, seinen, slice of life, space</td>\n",
       "    </tr>\n",
       "  </tbody>\n",
       "</table>\n",
       "</div>"
      ],
      "text/plain": [
       "                   Name Japanese name  \\\n",
       "0    hanada shounen-shi         花田少年史   \n",
       "1              mushishi            蟲師   \n",
       "2           steins;gate   steins;gate   \n",
       "3  ginga eiyuu densetsu        銀河英雄伝説   \n",
       "4         uchuu kyoudai          宇宙兄弟   \n",
       "\n",
       "                                              Genres  \n",
       "0  comedy, drama, seinen, slice of life, supernat...  \n",
       "1  adventure, slice of life, mystery, historical,...  \n",
       "2                                   thriller, sci-fi  \n",
       "3                     military, sci-fi, space, drama  \n",
       "4       comedy, sci-fi, seinen, slice of life, space  "
      ]
     },
     "execution_count": 38,
     "metadata": {},
     "output_type": "execute_result"
    }
   ],
   "source": [
    "recommend_result[[\"Name\", \"Japanese name\", \"Genres\"]].head(5)"
   ]
  },
  {
   "cell_type": "code",
   "execution_count": null,
   "metadata": {},
   "outputs": [],
   "source": []
  }
 ],
 "metadata": {
  "kernelspec": {
   "display_name": "llm-anime-recommendation-9TtSrW0h-py3.11",
   "language": "python",
   "name": "python3"
  },
  "language_info": {
   "codemirror_mode": {
    "name": "ipython",
    "version": 3
   },
   "file_extension": ".py",
   "mimetype": "text/x-python",
   "name": "python",
   "nbconvert_exporter": "python",
   "pygments_lexer": "ipython3",
   "version": "3.11.4"
  },
  "orig_nbformat": 4
 },
 "nbformat": 4,
 "nbformat_minor": 2
}
