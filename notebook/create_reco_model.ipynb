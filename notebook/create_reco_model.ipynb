{
 "cells": [
  {
   "cell_type": "code",
   "execution_count": 11,
   "metadata": {},
   "outputs": [],
   "source": [
    "import pandas as pd\n",
    "import numpy as np\n",
    "from collections import Counter\n",
    "\n",
    "from river import optim\n",
    "from river import reco\n",
    "from river import metrics\n",
    "\n",
    "import pickle"
   ]
  },
  {
   "cell_type": "code",
   "execution_count": 2,
   "metadata": {},
   "outputs": [],
   "source": [
    "df = pd.read_pickle(\"../data/trainset.pkl\")"
   ]
  },
  {
   "cell_type": "code",
   "execution_count": 3,
   "metadata": {},
   "outputs": [],
   "source": [
    "trainset = df[[\"user_id\", \"anime_id\", \"rating\"]].to_dict(orient=\"records\")"
   ]
  },
  {
   "cell_type": "code",
   "execution_count": 4,
   "metadata": {},
   "outputs": [],
   "source": [
    "del df"
   ]
  },
  {
   "cell_type": "code",
   "execution_count": 5,
   "metadata": {},
   "outputs": [
    {
     "data": {
      "text/plain": [
       "{'user_id': 0, 'anime_id': 1004, 'rating': 5}"
      ]
     },
     "execution_count": 5,
     "metadata": {},
     "output_type": "execute_result"
    }
   ],
   "source": [
    "trainset[0]"
   ]
  },
  {
   "cell_type": "code",
   "execution_count": 6,
   "metadata": {},
   "outputs": [],
   "source": [
    "# test_id = df[\"user_id\"].max() + 1\n",
    "# print(test_id)\n",
    "\n",
    "# test_anime = [\n",
    "#     \"Angel Beats!\",\n",
    "#     \"Mahoutsukai Precure!\",\n",
    "#     \"Ookami to Koushinryou\",\n",
    "#     \"Shinsekai yori\",\n",
    "#     \"Shugo Chara!\",\n",
    "#     \"Uma Musume: Pretty Derby (TV)\",\n",
    "#     \"Fate/Zero\",\n",
    "#     \"Uchuu Senkan Yamato 2199\",\n",
    "# ]"
   ]
  },
  {
   "cell_type": "code",
   "execution_count": 7,
   "metadata": {},
   "outputs": [],
   "source": [
    "metric = metrics.MAE() + metrics.RMSE()"
   ]
  },
  {
   "cell_type": "code",
   "execution_count": 8,
   "metadata": {},
   "outputs": [],
   "source": [
    "biased_mf_params = {\n",
    "    \"n_factors\": 10,\n",
    "    \"bias_optimizer\": optim.SGD(0.025),\n",
    "    \"latent_optimizer\": optim.SGD(0.05),\n",
    "    \"weight_initializer\": optim.initializers.Zeros(),\n",
    "    \"latent_initializer\": optim.initializers.Normal(mu=0.0, sigma=0.1, seed=73),\n",
    "    \"l2_bias\": 0.0,\n",
    "    \"l2_latent\": 0.0,\n",
    "}\n",
    "\n",
    "model = reco.BiasedMF(**biased_mf_params)"
   ]
  },
  {
   "cell_type": "code",
   "execution_count": 9,
   "metadata": {},
   "outputs": [],
   "source": [
    "for data in trainset:\n",
    "    y_pred = model.predict_one(user=data[\"user_id\"], item=data[\"anime_id\"])\n",
    "    metric = metric.update(data[\"rating\"], y_pred)\n",
    "    model = model.learn_one(\n",
    "        user=data[\"user_id\"], item=data[\"anime_id\"], y=data[\"rating\"]\n",
    "    )\n",
    "    # _ = model.learn_one(**x, y=y)"
   ]
  },
  {
   "cell_type": "code",
   "execution_count": 10,
   "metadata": {},
   "outputs": [
    {
     "data": {
      "text/plain": [
       "MAE: 0.934269, RMSE: 1.235888"
      ]
     },
     "execution_count": 10,
     "metadata": {},
     "output_type": "execute_result"
    }
   ],
   "source": [
    "metric"
   ]
  },
  {
   "cell_type": "code",
   "execution_count": 12,
   "metadata": {},
   "outputs": [],
   "source": [
    "with open(\"../data/model.pkl\", \"wb\") as f:\n",
    "    pickle.dump(model, f)"
   ]
  },
  {
   "cell_type": "code",
   "execution_count": null,
   "metadata": {},
   "outputs": [],
   "source": []
  }
 ],
 "metadata": {
  "kernelspec": {
   "display_name": "llm-anime-recommendation-9TtSrW0h-py3.11",
   "language": "python",
   "name": "python3"
  },
  "language_info": {
   "codemirror_mode": {
    "name": "ipython",
    "version": 3
   },
   "file_extension": ".py",
   "mimetype": "text/x-python",
   "name": "python",
   "nbconvert_exporter": "python",
   "pygments_lexer": "ipython3",
   "version": "3.11.4"
  },
  "orig_nbformat": 4
 },
 "nbformat": 4,
 "nbformat_minor": 2
}
