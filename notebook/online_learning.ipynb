{
 "cells": [
  {
   "cell_type": "code",
   "execution_count": 1,
   "metadata": {},
   "outputs": [],
   "source": [
    "import datetime\n",
    "import pickle\n",
    "\n",
    "import pandas as pd\n",
    "from river import metrics, optim, reco"
   ]
  },
  {
   "cell_type": "code",
   "execution_count": 2,
   "metadata": {},
   "outputs": [],
   "source": [
    "with open(\"../data/model.pkl\", \"rb\") as f:\n",
    "    model = pickle.load(f)"
   ]
  },
  {
   "cell_type": "code",
   "execution_count": 3,
   "metadata": {},
   "outputs": [],
   "source": [
    "df = pd.read_pickle(\"../data/trainset.pkl\")\n",
    "anime_list = df[[\"Name\", \"Japanese_name\", \"anime_id\", \"Score\"]].drop_duplicates()"
   ]
  },
  {
   "cell_type": "code",
   "execution_count": 4,
   "metadata": {},
   "outputs": [],
   "source": [
    "now = datetime.datetime.now()"
   ]
  },
  {
   "cell_type": "code",
   "execution_count": 5,
   "metadata": {},
   "outputs": [
    {
     "name": "stdout",
     "output_type": "stream",
     "text": [
      "20230623171424\n"
     ]
    }
   ],
   "source": [
    "user_id = now.strftime(\"%Y%m%d%H%M%S\")\n",
    "user_id = int(user_id)\n",
    "print(user_id)"
   ]
  },
  {
   "cell_type": "code",
   "execution_count": 6,
   "metadata": {},
   "outputs": [],
   "source": [
    "test_data = [\n",
    "    \"Angel Beats!\",\n",
    "    \"Mahoutsukai Precure!\",\n",
    "    \"Ookami to Koushinryou\",\n",
    "    \"Shinsekai yori\",\n",
    "    \"Shugo Chara!\",\n",
    "    \"Uma Musume: Pretty Derby (TV)\",\n",
    "    \"Fate/Zero\",\n",
    "    \"Uchuu Senkan Yamato 2199\",\n",
    "]"
   ]
  },
  {
   "cell_type": "code",
   "execution_count": 7,
   "metadata": {},
   "outputs": [
    {
     "name": "stderr",
     "output_type": "stream",
     "text": [
      "/tmp/ipykernel_474199/2289128984.py:2: SettingWithCopyWarning: \n",
      "A value is trying to be set on a copy of a slice from a DataFrame.\n",
      "Try using .loc[row_indexer,col_indexer] = value instead\n",
      "\n",
      "See the caveats in the documentation: https://pandas.pydata.org/pandas-docs/stable/user_guide/indexing.html#returning-a-view-versus-a-copy\n",
      "  test_df[\"user_id\"] = user_id\n",
      "/tmp/ipykernel_474199/2289128984.py:3: SettingWithCopyWarning: \n",
      "A value is trying to be set on a copy of a slice from a DataFrame.\n",
      "Try using .loc[row_indexer,col_indexer] = value instead\n",
      "\n",
      "See the caveats in the documentation: https://pandas.pydata.org/pandas-docs/stable/user_guide/indexing.html#returning-a-view-versus-a-copy\n",
      "  test_df[\"rating\"] = 10\n"
     ]
    }
   ],
   "source": [
    "test_df = anime_list[anime_list[\"Name\"].isin(test_data)]\n",
    "test_df[\"user_id\"] = user_id\n",
    "test_df[\"rating\"] = 10"
   ]
  },
  {
   "cell_type": "code",
   "execution_count": 8,
   "metadata": {},
   "outputs": [
    {
     "data": {
      "text/html": [
       "<div>\n",
       "<style scoped>\n",
       "    .dataframe tbody tr th:only-of-type {\n",
       "        vertical-align: middle;\n",
       "    }\n",
       "\n",
       "    .dataframe tbody tr th {\n",
       "        vertical-align: top;\n",
       "    }\n",
       "\n",
       "    .dataframe thead th {\n",
       "        text-align: right;\n",
       "    }\n",
       "</style>\n",
       "<table border=\"1\" class=\"dataframe\">\n",
       "  <thead>\n",
       "    <tr style=\"text-align: right;\">\n",
       "      <th></th>\n",
       "      <th>Name</th>\n",
       "      <th>Japanese_name</th>\n",
       "      <th>anime_id</th>\n",
       "      <th>Score</th>\n",
       "      <th>user_id</th>\n",
       "      <th>rating</th>\n",
       "    </tr>\n",
       "  </thead>\n",
       "  <tbody>\n",
       "    <tr>\n",
       "      <th>1527811</th>\n",
       "      <td>Angel Beats!</td>\n",
       "      <td>Angel Beats!（エンジェルビーツ）</td>\n",
       "      <td>6547</td>\n",
       "      <td>8.15</td>\n",
       "      <td>20230623171424</td>\n",
       "      <td>10</td>\n",
       "    </tr>\n",
       "    <tr>\n",
       "      <th>12121575</th>\n",
       "      <td>Fate/Zero</td>\n",
       "      <td>フェイト/ゼロ</td>\n",
       "      <td>10087</td>\n",
       "      <td>8.34</td>\n",
       "      <td>20230623171424</td>\n",
       "      <td>10</td>\n",
       "    </tr>\n",
       "    <tr>\n",
       "      <th>20546661</th>\n",
       "      <td>Ookami to Koushinryou</td>\n",
       "      <td>狼と香辛料</td>\n",
       "      <td>2966</td>\n",
       "      <td>8.27</td>\n",
       "      <td>20230623171424</td>\n",
       "      <td>10</td>\n",
       "    </tr>\n",
       "    <tr>\n",
       "      <th>27276805</th>\n",
       "      <td>Shinsekai yori</td>\n",
       "      <td>新世界より</td>\n",
       "      <td>13125</td>\n",
       "      <td>8.35</td>\n",
       "      <td>20230623171424</td>\n",
       "      <td>10</td>\n",
       "    </tr>\n",
       "    <tr>\n",
       "      <th>32041714</th>\n",
       "      <td>Shugo Chara!</td>\n",
       "      <td>しゅごキャラ！</td>\n",
       "      <td>2923</td>\n",
       "      <td>7.43</td>\n",
       "      <td>20230623171424</td>\n",
       "      <td>10</td>\n",
       "    </tr>\n",
       "  </tbody>\n",
       "</table>\n",
       "</div>"
      ],
      "text/plain": [
       "                           Name           Japanese_name  anime_id  Score  \\\n",
       "1527811            Angel Beats!  Angel Beats!（エンジェルビーツ）      6547   8.15   \n",
       "12121575              Fate/Zero                 フェイト/ゼロ     10087   8.34   \n",
       "20546661  Ookami to Koushinryou                   狼と香辛料      2966   8.27   \n",
       "27276805         Shinsekai yori                   新世界より     13125   8.35   \n",
       "32041714           Shugo Chara!                 しゅごキャラ！      2923   7.43   \n",
       "\n",
       "                 user_id  rating  \n",
       "1527811   20230623171424      10  \n",
       "12121575  20230623171424      10  \n",
       "20546661  20230623171424      10  \n",
       "27276805  20230623171424      10  \n",
       "32041714  20230623171424      10  "
      ]
     },
     "execution_count": 8,
     "metadata": {},
     "output_type": "execute_result"
    }
   ],
   "source": [
    "test_df.head()"
   ]
  },
  {
   "cell_type": "code",
   "execution_count": 9,
   "metadata": {},
   "outputs": [],
   "source": [
    "testset = test_df[[\"user_id\", \"anime_id\", \"rating\"]].to_dict(orient=\"records\")"
   ]
  },
  {
   "cell_type": "code",
   "execution_count": 10,
   "metadata": {},
   "outputs": [],
   "source": [
    "metric = metrics.MAE() + metrics.RMSE()"
   ]
  },
  {
   "cell_type": "code",
   "execution_count": 11,
   "metadata": {},
   "outputs": [],
   "source": [
    "# Update model\n",
    "for data in testset:\n",
    "    y_pred = model.predict_one(user=data[\"user_id\"], item=data[\"anime_id\"])\n",
    "    metric = metric.update(data[\"rating\"], y_pred)\n",
    "    model = model.learn_one(\n",
    "        user=data[\"user_id\"], item=data[\"anime_id\"], y=data[\"rating\"]\n",
    "    )"
   ]
  },
  {
   "cell_type": "code",
   "execution_count": 12,
   "metadata": {},
   "outputs": [
    {
     "data": {
      "text/plain": [
       "MAE: 1.790617, RMSE: 1.822808"
      ]
     },
     "execution_count": 12,
     "metadata": {},
     "output_type": "execute_result"
    }
   ],
   "source": [
    "metric"
   ]
  },
  {
   "cell_type": "code",
   "execution_count": 13,
   "metadata": {},
   "outputs": [],
   "source": [
    "with open(\"../data/retrain_model.pkl\", \"wb\") as f:\n",
    "    pickle.dump(model, f)"
   ]
  },
  {
   "cell_type": "code",
   "execution_count": null,
   "metadata": {},
   "outputs": [],
   "source": []
  },
  {
   "cell_type": "code",
   "execution_count": 14,
   "metadata": {},
   "outputs": [],
   "source": [
    "def predict(uid, df, anime_list):\n",
    "    # predict recommend item\n",
    "    result_df = model.rank(user=uid, items=anime_list[\"anime_id\"])\n",
    "    result_df = pd.DataFrame(result_df, columns=[\"anime_id\"])\n",
    "    result_df = pd.merge(result_df, anime_list, on=[\"anime_id\"], how=\"inner\")\n",
    "\n",
    "    # remove rated item\n",
    "    rated_df = df[df[\"user_id\"] == uid][\"anime_id\"]\n",
    "    result_df = result_df[~result_df[\"anime_id\"].isin(rated_df)]\n",
    "    result_df = result_df.reset_index(drop=True)[0:10]\n",
    "\n",
    "    return result_df"
   ]
  },
  {
   "cell_type": "code",
   "execution_count": 15,
   "metadata": {},
   "outputs": [
    {
     "data": {
      "text/html": [
       "<div>\n",
       "<style scoped>\n",
       "    .dataframe tbody tr th:only-of-type {\n",
       "        vertical-align: middle;\n",
       "    }\n",
       "\n",
       "    .dataframe tbody tr th {\n",
       "        vertical-align: top;\n",
       "    }\n",
       "\n",
       "    .dataframe thead th {\n",
       "        text-align: right;\n",
       "    }\n",
       "</style>\n",
       "<table border=\"1\" class=\"dataframe\">\n",
       "  <thead>\n",
       "    <tr style=\"text-align: right;\">\n",
       "      <th></th>\n",
       "      <th>anime_id</th>\n",
       "      <th>Name</th>\n",
       "      <th>Japanese_name</th>\n",
       "      <th>Score</th>\n",
       "    </tr>\n",
       "  </thead>\n",
       "  <tbody>\n",
       "    <tr>\n",
       "      <th>0</th>\n",
       "      <td>457</td>\n",
       "      <td>Mushishi</td>\n",
       "      <td>蟲師</td>\n",
       "      <td>8.69</td>\n",
       "    </tr>\n",
       "    <tr>\n",
       "      <th>1</th>\n",
       "      <td>9253</td>\n",
       "      <td>Steins;Gate</td>\n",
       "      <td>STEINS;GATE</td>\n",
       "      <td>9.11</td>\n",
       "    </tr>\n",
       "    <tr>\n",
       "      <th>2</th>\n",
       "      <td>2004</td>\n",
       "      <td>Hanada Shounen-shi</td>\n",
       "      <td>花田少年史</td>\n",
       "      <td>8.01</td>\n",
       "    </tr>\n",
       "    <tr>\n",
       "      <th>3</th>\n",
       "      <td>21939</td>\n",
       "      <td>Mushishi Zoku Shou</td>\n",
       "      <td>蟲師 続章</td>\n",
       "      <td>8.72</td>\n",
       "    </tr>\n",
       "    <tr>\n",
       "      <th>4</th>\n",
       "      <td>820</td>\n",
       "      <td>Ginga Eiyuu Densetsu</td>\n",
       "      <td>銀河英雄伝説</td>\n",
       "      <td>9.07</td>\n",
       "    </tr>\n",
       "    <tr>\n",
       "      <th>5</th>\n",
       "      <td>6594</td>\n",
       "      <td>Katanagatari</td>\n",
       "      <td>刀語</td>\n",
       "      <td>8.36</td>\n",
       "    </tr>\n",
       "    <tr>\n",
       "      <th>6</th>\n",
       "      <td>5941</td>\n",
       "      <td>Cross Game</td>\n",
       "      <td>クロスゲーム</td>\n",
       "      <td>8.43</td>\n",
       "    </tr>\n",
       "    <tr>\n",
       "      <th>7</th>\n",
       "      <td>24701</td>\n",
       "      <td>Mushishi Zoku Shou 2nd Season</td>\n",
       "      <td>蟲師 続章</td>\n",
       "      <td>8.76</td>\n",
       "    </tr>\n",
       "    <tr>\n",
       "      <th>8</th>\n",
       "      <td>10087</td>\n",
       "      <td>Fate/Zero</td>\n",
       "      <td>フェイト/ゼロ</td>\n",
       "      <td>8.34</td>\n",
       "    </tr>\n",
       "    <tr>\n",
       "      <th>9</th>\n",
       "      <td>3297</td>\n",
       "      <td>Aria the Origination</td>\n",
       "      <td>ARIA The ORIGINATION</td>\n",
       "      <td>8.53</td>\n",
       "    </tr>\n",
       "  </tbody>\n",
       "</table>\n",
       "</div>"
      ],
      "text/plain": [
       "   anime_id                           Name         Japanese_name  Score\n",
       "0       457                       Mushishi                    蟲師   8.69\n",
       "1      9253                    Steins;Gate           STEINS;GATE   9.11\n",
       "2      2004             Hanada Shounen-shi                 花田少年史   8.01\n",
       "3     21939             Mushishi Zoku Shou                 蟲師 続章   8.72\n",
       "4       820           Ginga Eiyuu Densetsu                銀河英雄伝説   9.07\n",
       "5      6594                   Katanagatari                    刀語   8.36\n",
       "6      5941                     Cross Game                クロスゲーム   8.43\n",
       "7     24701  Mushishi Zoku Shou 2nd Season                 蟲師 続章   8.76\n",
       "8     10087                      Fate/Zero               フェイト/ゼロ   8.34\n",
       "9      3297           Aria the Origination  ARIA The ORIGINATION   8.53"
      ]
     },
     "execution_count": 15,
     "metadata": {},
     "output_type": "execute_result"
    }
   ],
   "source": [
    "predict(user_id, df, anime_list)"
   ]
  },
  {
   "cell_type": "code",
   "execution_count": null,
   "metadata": {},
   "outputs": [],
   "source": []
  }
 ],
 "metadata": {
  "kernelspec": {
   "display_name": "llm-anime-recommendation-9TtSrW0h-py3.11",
   "language": "python",
   "name": "python3"
  },
  "language_info": {
   "codemirror_mode": {
    "name": "ipython",
    "version": 3
   },
   "file_extension": ".py",
   "mimetype": "text/x-python",
   "name": "python",
   "nbconvert_exporter": "python",
   "pygments_lexer": "ipython3",
   "version": "3.11.4"
  },
  "orig_nbformat": 4
 },
 "nbformat": 4,
 "nbformat_minor": 2
}
