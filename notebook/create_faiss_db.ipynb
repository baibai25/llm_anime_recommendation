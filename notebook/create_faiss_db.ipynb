{
 "cells": [
  {
   "cell_type": "code",
   "execution_count": 1,
   "metadata": {},
   "outputs": [],
   "source": [
    "import re\n",
    "\n",
    "import pandas as pd\n",
    "\n",
    "from langchain.llms import OpenAI\n",
    "from langchain.chat_models import ChatOpenAI\n",
    "\n",
    "from langchain.document_loaders.csv_loader import CSVLoader\n",
    "\n",
    "from langchain.embeddings import OpenAIEmbeddings\n",
    "from langchain.chains import RetrievalQA\n",
    "from langchain.vectorstores import FAISS\n",
    "from langchain.text_splitter import RecursiveCharacterTextSplitter\n",
    "import numpy as np"
   ]
  },
  {
   "attachments": {},
   "cell_type": "markdown",
   "metadata": {},
   "source": [
    "### Anime name DB\n"
   ]
  },
  {
   "cell_type": "code",
   "execution_count": 2,
   "metadata": {},
   "outputs": [],
   "source": [
    "def create_anime_name_csv():\n",
    "    df = pd.read_csv(\"../data/anime_list.csv\")\n",
    "    df = df[[\"Name\"]]\n",
    "\n",
    "    for col in df.columns:\n",
    "        df[col] = df[col].str.lower()\n",
    "\n",
    "    df.to_csv(\"../data/anime_name_db.csv\", index=False)"
   ]
  },
  {
   "cell_type": "code",
   "execution_count": 3,
   "metadata": {},
   "outputs": [],
   "source": [
    "def create_anime_name_db():\n",
    "    loader = CSVLoader(file_path=\"../data/anime_name_db.csv\")\n",
    "    documents = loader.load()\n",
    "    text_splitter = RecursiveCharacterTextSplitter(chunk_size=1000, chunk_overlap=0)\n",
    "    docs = text_splitter.split_documents(documents)\n",
    "    embeddings = OpenAIEmbeddings()\n",
    "    db = FAISS.from_documents(docs, embeddings)\n",
    "    db.save_local(\"../data/anime_name_db\")"
   ]
  },
  {
   "cell_type": "code",
   "execution_count": 4,
   "metadata": {},
   "outputs": [],
   "source": [
    "def check_similarity_item(db, input):\n",
    "    input = input.lower()\n",
    "    sim = db.similarity_search_with_score(query=input, k=1)\n",
    "\n",
    "    anime_name = sim[0][0].page_content.split(\"\\n\")[0]\n",
    "    match = re.search(r\"Name: (.*)\", anime_name)\n",
    "    # match = re.search(r\"Japanese_name: (.*)\", anime_name)\n",
    "\n",
    "    if match:\n",
    "        anime_name = match.group(1)\n",
    "    else:\n",
    "        anime_name = np.nan\n",
    "    sim_value = sim[0][1]\n",
    "\n",
    "    print(anime_name, sim_value)"
   ]
  },
  {
   "cell_type": "code",
   "execution_count": 5,
   "metadata": {},
   "outputs": [],
   "source": [
    "create_anime_name_csv()"
   ]
  },
  {
   "cell_type": "code",
   "execution_count": 6,
   "metadata": {},
   "outputs": [],
   "source": [
    "create_anime_name_db()"
   ]
  },
  {
   "cell_type": "code",
   "execution_count": 7,
   "metadata": {},
   "outputs": [],
   "source": [
    "embeddings = OpenAIEmbeddings(model=\"text-embedding-ada-002\")\n",
    "anime_name_db = FAISS.load_local(\"../data/anime_name_db\", embeddings)"
   ]
  },
  {
   "cell_type": "code",
   "execution_count": 8,
   "metadata": {},
   "outputs": [],
   "source": [
    "check_anime_list = [\n",
    "    \"Angel Beats\",\n",
    "    \"魔法使いプリキュア\",\n",
    "    \"Mahoutsukai Precure!\",\n",
    "    \"狼と香辛料\",\n",
    "    \"Ookami to Koushinryo\",\n",
    "    \"鬼滅の刃\",\n",
    "    \"Kimetsu no Yaiba\",\n",
    "]"
   ]
  },
  {
   "cell_type": "code",
   "execution_count": 9,
   "metadata": {},
   "outputs": [
    {
     "name": "stdout",
     "output_type": "stream",
     "text": [
      "angel beats! 0.2101283\n",
      "mahou shoujo madoka★magica 0.30650908\n",
      "mahoutsukai precure! 0.099646196\n",
      "ikkitousen: western wolves 0.36210635\n",
      "ookami to koushinryou 0.16843092\n",
      "queen's blade: gyokuza wo tsugu mono 0.31180137\n",
      "kimetsu no yaiba 0.12329282\n"
     ]
    }
   ],
   "source": [
    "for anime in check_anime_list:\n",
    "    check_similarity_item(anime_name_db, anime)"
   ]
  },
  {
   "cell_type": "code",
   "execution_count": null,
   "metadata": {},
   "outputs": [],
   "source": []
  },
  {
   "attachments": {},
   "cell_type": "markdown",
   "metadata": {},
   "source": [
    "### Anime Information DB\n"
   ]
  },
  {
   "cell_type": "code",
   "execution_count": 10,
   "metadata": {},
   "outputs": [],
   "source": [
    "def create_anime_info_text():\n",
    "    df = pd.read_csv(\"../data/anime_list.csv\")\n",
    "    # df = df[[\"Name\", \"English_name\", \"Japanese_name\", \"Genres\", \"sypnopsis\"]]\n",
    "    df = df[[\"Name\", \"Genres\", \"sypnopsis\"]]\n",
    "\n",
    "    for col in df.columns:\n",
    "        df[col] = df[col].str.lower()\n",
    "    df.to_csv(\"../data/anime_info_db.csv\", index=False)\n",
    "\n",
    "    # # 名前と概要欄を分け、1つのテキストにまとめる\n",
    "    # # Nameと対にする\n",
    "    # anime_info_list = []\n",
    "    # en = df[[\"Name\", \"English_name\"]].to_dict(orient=\"records\")\n",
    "    # ja = df[[\"Name\", \"Japanese_name\"]].to_dict(orient=\"records\")\n",
    "    # genere = df[[\"Name\", \"Genres\"]].to_dict(orient=\"records\")\n",
    "    # sypnopsis = df[[\"Name\", \"sypnopsis\"]].to_dict(orient=\"records\")\n",
    "\n",
    "    # anime_info_list.extend(en)\n",
    "    # anime_info_list.extend(ja)\n",
    "    # anime_info_list.extend(genere)\n",
    "    # anime_info_list.extend(sypnopsis)\n",
    "\n",
    "    # with open(\"../data/anime_info_db.txt\", \"w\") as file:\n",
    "    #     for item in anime_info_list:\n",
    "    #         for key, value in item.items():\n",
    "    #             file.write(f\"{key}: {value}, \")\n",
    "    #         file.write(\"\\n\")"
   ]
  },
  {
   "cell_type": "code",
   "execution_count": 11,
   "metadata": {},
   "outputs": [],
   "source": [
    "def create_anime_info_db():\n",
    "    # loader = TextLoader(file_path=\"../data/anime_info_db.txt\")\n",
    "    loader = CSVLoader(file_path=\"../data/anime_info_db.csv\")\n",
    "    documents = loader.load()\n",
    "    text_splitter = RecursiveCharacterTextSplitter(chunk_size=4000, chunk_overlap=100)\n",
    "    docs = text_splitter.split_documents(documents)\n",
    "    embeddings = OpenAIEmbeddings()\n",
    "    db = FAISS.from_documents(docs, embeddings)\n",
    "    db.save_local(\"../data/anime_info_db\")"
   ]
  },
  {
   "cell_type": "code",
   "execution_count": 12,
   "metadata": {},
   "outputs": [],
   "source": [
    "create_anime_info_text()"
   ]
  },
  {
   "cell_type": "code",
   "execution_count": 13,
   "metadata": {},
   "outputs": [],
   "source": [
    "create_anime_info_db()"
   ]
  },
  {
   "cell_type": "code",
   "execution_count": 6,
   "metadata": {},
   "outputs": [],
   "source": [
    "embeddings = OpenAIEmbeddings(model=\"text-embedding-ada-002\")\n",
    "anime_info_db = FAISS.load_local(\"../data/anime_info_db\", embeddings)"
   ]
  },
  {
   "cell_type": "code",
   "execution_count": 29,
   "metadata": {},
   "outputs": [],
   "source": [
    "llm = ChatOpenAI(model=\"gpt-4\")\n",
    "chain = RetrievalQA.from_chain_type(\n",
    "    llm,\n",
    "    retriever=anime_info_db.as_retriever(),\n",
    ")"
   ]
  },
  {
   "cell_type": "code",
   "execution_count": 30,
   "metadata": {},
   "outputs": [],
   "source": [
    "# template_test = \"\"\"Genres of {\"Mahoutsukai Precure!\".lower()}\"\"\"\n",
    "template_test = \"\"\"Tell me about {\"魔法つかいプリキュア\".lower()}\"\"\"\n",
    "# template_test = \"\"\"魔法つかいプリキュア！のジャンルはなんですか。\"\"\""
   ]
  },
  {
   "cell_type": "code",
   "execution_count": 31,
   "metadata": {},
   "outputs": [],
   "source": [
    "result = chain(template_test)"
   ]
  },
  {
   "cell_type": "code",
   "execution_count": 32,
   "metadata": {},
   "outputs": [
    {
     "data": {
      "text/plain": [
       "{'query': 'Tell me about {\"魔法つかいプリキュア\".lower()}',\n",
       " 'result': '\"魔法つかいプリキュア\" is a Japanese anime that falls under the genres of action, slice of life, magic, fantasy, school, and shoujo. The story revolves around a 13-year-old girl named Ai who lives in the human world. One day, she witnesses a mysterious object fall from the sky into the park. She brings her stuffed bear Mofurun with her to see what it was and encounters a girl named Riko flying on a broom. Riko is the same age as Ai and comes from the magical world. Riko is searching for a powerful jewel called \"link stone emerald.\" However, they are confronted by Batti, an ally of the dark magic users Dokurokushi, who demands the \"link stone emerald.\" Batti uses dark magic to create a monster known as a Yokubaru. To combat the threat, Ai and Riko join hands and with the magic words \"cure-up rapapa,\" they transform into the legendary Pretty Cure.'}"
      ]
     },
     "execution_count": 32,
     "metadata": {},
     "output_type": "execute_result"
    }
   ],
   "source": [
    "result"
   ]
  },
  {
   "cell_type": "code",
   "execution_count": 33,
   "metadata": {},
   "outputs": [
    {
     "data": {
      "text/plain": [
       "[(Document(page_content=\"Japanese_name: 魔法のスターマジカルエミ 雲光る\\nGenres: comedy, shoujo, slice of life\\nsypnopsis: kazuki mai, an elementary schoolgirl, wanted to be a magician but her skills weren't good enough for here to join her grandparents' magiccarat troupe. one day she sees a light enter a strange heart-shaped mirror. the light is actually a mirror fairy named topo, who takes over her favourite stuffed toy, a flying squirrel and gives her a bracelet with the 4 card suits. the bracelet can turn into a bubble wand which transforms mai into the 18 year old magician magical emi, who uses her magic to help people and participate in her grandparents' shows.\", metadata={'source': '../data/anime_info_db.csv', 'row': 2754}),\n",
       "  0.31583548),\n",
       " (Document(page_content='Japanese_name: ドキドキ! プリキュア\\nGenres: action, magic, fantasy, shoujo\\nsypnopsis: ddle schooler mana aida is known for her vivid passion and kind-hearted disposition, especially by her friends rikka hishikawa and alice yotsuba. while the girls are on a school field trip, otherworldly villains from the \"trump kingdom\" appear and create giant monsters from the civilians\\' selfish desires to cause havoc. in the midst of finding a way to stop the destruction, mana encounters \"cure sword,\" a mysterious precure warrior. as cure sword engages in combat with the monsters, mana meets cure sword\\'s fairy allies, who tell her that she also has the ability to transform into a warrior herself. when trump kingdom\\'s invaders begin to outnumber cure sword, mana takes to the battleground with resolve. she partners with sharuru, one of the fairies, and transforms into \"cure heart\"—the precure of love. in her attempts to ally with cure sword, mana ends up pulling rikka and alice into the fray, whom each partner with a fairy ally to transform into \"cure diamond\" and \"cure rosetta,\" respectively. together, they battle against the trump kingdom invaders to protect the love in the world from being destroyed.', metadata={'source': '../data/anime_info_db.csv', 'row': 3399}),\n",
       "  0.31989035),\n",
       " (Document(page_content='Japanese_name: 魔法つかいプリキュア！\\nGenres: action, slice of life, magic, fantasy, school, shoujo\\nsypnopsis: ai is a 13-year-old girl who lives in the human world. one day she witnesses a mysterious object fall from the sky into the park. excitedly, she brings her stuffed bear mofurun with her to see what it was. when she gets there she sees a girl named riko flying on a broom. riko is of the same age and from the magical world. mirai has a lot of questions, and riko explains that she\\'s searching for a jewel with strong powers called \"link stone emerald.\" then batti, an ally of the dark magic users dokurokushi, appears before them and demands that riko hand over the \"link stone emerald,\" which riko herself had been looking for. to make things worse, batti uses dark magic to create a monster known as a yokubaru! mirai and riko join hands and with the magic words \"cure-up rapapa!\" they transform into the legendary pretty cure.', metadata={'source': '../data/anime_info_db.csv', 'row': 4144}),\n",
       "  0.3231264),\n",
       " (Document(page_content=\"Japanese_name: go! プリンセスプリキュア\\nGenres: action, slice of life, comedy, magic, fantasy, school, shoujo\\nsypnopsis: once upon a time, there was a little girl who desperately wanted to become a princess just like the ones in her picture book. other children made fun of her childish wishes, but she never stopped believing. one day, a boy who looked like a prince appeared, asking her if she would like to be a princess. he gave the girl magical charm to make her wish come true. that little girl, haruka haruno, is now a thirteen-year-old attending noble academy, a junior high boarding school. her school life is interrupted by two fairies, pafu and aroma, who give her a princess perfume, which mysteriously matches the charm she was given eight years ago! turns out, haruka is one of the princess precures, and must team up with cure mermaid and cure twinkle in go! princess precure in order to defeat the dark witch dyspear before she brings the the hope kingdom and haruka's world to a nightmareish end!\", metadata={'source': '../data/anime_info_db.csv', 'row': 3901}),\n",
       "  0.3256914),\n",
       " (Document(page_content='Japanese_name: スマイルプリキュア\\nGenres: action, magic, fantasy, shoujo\\nsypnopsis: to teenager miyuki hoshizora, fairy tales are a world of wondrous encounters and happy endings. inspired by her love for these stories, she lives every day searching for happiness. while running late on her first day of school as a transfer student, miyuki meets candy—a mysterious fairy from the world of fairy tales, märchenland. however, when candy disappears as quickly as she appeared, miyuki is left believing the encounter was only a dream. after an eventful first day, miyuki finds a mysterious library at school. while combing through the bookshelves, she is transported next to candy, who claims to be searching for the so-called legendary warriors, precure. when forced to protect candy\\'s and everyone else\\'s happiness, miyuki transforms into \"cure happy,\" one of the precure warriors! as cure happy, miyuki is now tasked with finding the other legendary warriors and protecting the world from destruction, all while possibly discovering her very own happy ending.', metadata={'source': '../data/anime_info_db.csv', 'row': 3152}),\n",
       "  0.32590592),\n",
       " (Document(page_content=\"Japanese_name: 魔法使いなら味噌を喰え！\\nGenres: magic, fantasy, school\\nsypnopsis: orld where the existence of magic has been known for a century as a mysterious power to rival science. however, the discovery of miso — the material of an impediment to the sorcerer's orders — made magic into not a special power, but a technique that can be raised. one morning, while shōta hacchōya (a high school boy attending a magic academy) was tasting miso soup, a princess of majieeru suddenly breaks in. majieeru happens to be the birthplace of magic. (source: ann)\", metadata={'source': '../data/anime_info_db.csv', 'row': 3279}),\n",
       "  0.33511108),\n",
       " (Document(page_content='Japanese_name: 魔法の妖精 ペルシャ\\nGenres: comedy, magic\\nsypnopsis: 11-year-old persia has grown up alongside the animals on the serengeti plains of africa. twins riki and gaku muroi and their grandfather, gouken, bring persia to japan with them, where she will live with a couple (who persia calls mama and papa) that own a grocery store. during the flight to japan, persia finds herself in the \"lovely dream\" where she meets the fairy queen, who explains that the lovely dream is in danger and requests persia\\'s help. giving persia a magical headband (which can also summon a magical baton) that allows her to transform into a teenage girl, connecting her to the lovely dream and allowing her to use magic. she is sent with three kappa back into the regular world with the mission of collecting love energy to thaw the frozen lovely dream. if persia fails her task of collecting love energy or if someone catches her using magic, riki and gaku will be transformed into women. (source: ann)', metadata={'source': '../data/anime_info_db.csv', 'row': 1330}),\n",
       "  0.33650392),\n",
       " (Document(page_content='Japanese_name: 魔法のスター マジカルエミ\\nGenres: comedy, magic, shoujo, slice of life\\nsypnopsis: kozuki mai is an elementary student who wants to be a magician and perform in her family\\'s \"magicarat\" magical act; however, she is too young, and her magic skills are not very good. then one day, she encounters a ball of light that was put into a stuffed doll of flying squirrel, bringing it to life and somehow giving her the power to turn in to the 18-year-old magician \"magical emi.\" as emi, mai was able to join the magic act. but she must keep her identity a secret from her family and from her crush.', metadata={'source': '../data/anime_info_db.csv', 'row': 1329}),\n",
       "  0.3396995),\n",
       " (Document(page_content=\"Japanese_name: 魔法少女プリティサミー\\nGenres: comedy, parody, magic, fantasy\\nsypnopsis: sasami's always been kind of neat... but now she's been imbibed with a healthy dose of magic (which she plans to use to right the things wrong with the earth, and, of course, help keep her brother tenchi out of trouble). naturally, there's going to be trouble: this time, it's the mysterious pixy misa... and ryoko going at it against ayeka (as usual) isn't making things any easier for her! (source: animenfo)\", metadata={'source': '../data/anime_info_db.csv', 'row': 1266}),\n",
       "  0.3461544),\n",
       " (Document(page_content='Japanese_name: 魔法少女育成計画\\nGenres: action, fantasy, magic, supernatural, thriller\\nsypnopsis: for many girls in n-city, playing the popular social role-playing game magical girl raising project is as close as they could come to being a real magical girl. however, for some rare players, that dream can become a reality. one such girl is koyuki himekawa, who receives a notification one night that she has been selected to become a magical girl, her in-game avatar snow white. as koyuki and other chosen players in the city begin helping those in need, they all receive yet another notification: the admins have decided that they want to reduce the number of magical girls. whoever collects the least amount of magical candies—which are awarded for their magical girl activities—in their competition each week will lose their powers. but when a real-world tragedy happens to the first player that drops out, they are shown the repercussions of losing their abilities. as more participants inevitably lose the competition and more twisted rules are added, the girls soon realize that their \"contest\" is actually a desperate fight for survival.', metadata={'source': '../data/anime_info_db.csv', 'row': 4271}),\n",
       "  0.34656316)]"
      ]
     },
     "execution_count": 33,
     "metadata": {},
     "output_type": "execute_result"
    }
   ],
   "source": [
    "anime_info_db.similarity_search_with_score(query=template_test, k=10)"
   ]
  },
  {
   "cell_type": "code",
   "execution_count": null,
   "metadata": {},
   "outputs": [],
   "source": []
  },
  {
   "cell_type": "code",
   "execution_count": null,
   "metadata": {},
   "outputs": [],
   "source": []
  }
 ],
 "metadata": {
  "kernelspec": {
   "display_name": "llm-anime-recommendation-9TtSrW0h-py3.11",
   "language": "python",
   "name": "python3"
  },
  "language_info": {
   "codemirror_mode": {
    "name": "ipython",
    "version": 3
   },
   "file_extension": ".py",
   "mimetype": "text/x-python",
   "name": "python",
   "nbconvert_exporter": "python",
   "pygments_lexer": "ipython3",
   "version": "3.11.4"
  },
  "orig_nbformat": 4
 },
 "nbformat": 4,
 "nbformat_minor": 2
}
